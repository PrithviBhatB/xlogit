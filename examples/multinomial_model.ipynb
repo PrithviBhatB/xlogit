{
  "nbformat": 4,
  "nbformat_minor": 0,
  "metadata": {
    "colab": {
      "name": "multinomial_model.ipynb",
      "provenance": [],
      "collapsed_sections": [],
      "include_colab_link": true
    },
    "kernelspec": {
      "display_name": "Python 3 (Spyder)",
      "language": "python3",
      "name": "python3"
    },
    "language_info": {
      "codemirror_mode": {
        "name": "ipython",
        "version": 3
      },
      "file_extension": ".py",
      "mimetype": "text/x-python",
      "name": "python",
      "nbconvert_exporter": "python",
      "pygments_lexer": "ipython3",
      "version": "3.7.7"
    }
  },
  "cells": [
    {
      "cell_type": "markdown",
      "metadata": {
        "id": "view-in-github",
        "colab_type": "text"
      },
      "source": [
        "<a href=\"https://colab.research.google.com/github/arteagac/xlogit/blob/master/examples/multinomial_model.ipynb\" target=\"_parent\"><img src=\"https://colab.research.google.com/assets/colab-badge.svg\" alt=\"Open In Colab\"/></a>"
      ]
    },
    {
      "cell_type": "markdown",
      "metadata": {
        "id": "oeFDTihBDTnb"
      },
      "source": [
        "# Multinomial Logit"
      ]
    },
    {
      "cell_type": "markdown",
      "metadata": {
        "id": "is9MSL-AkK9G"
      },
      "source": [
        "## Install `xlogit` package"
      ]
    },
    {
      "cell_type": "code",
      "metadata": {
        "colab": {
          "base_uri": "https://localhost:8080/"
        },
        "id": "36ZQw8iIkDib",
        "outputId": "09e8a58e-d4f8-4977-ca01-d5190d7c624a"
      },
      "source": [
        "!pip install xlogit"
      ],
      "execution_count": null,
      "outputs": [
        {
          "output_type": "stream",
          "text": [
            "Collecting git+https://github.com/arteagac/xlogit\n",
            "  Cloning https://github.com/arteagac/xlogit to /tmp/pip-req-build-fvy3i0js\n",
            "  Running command git clone -q https://github.com/arteagac/xlogit /tmp/pip-req-build-fvy3i0js\n",
            "Requirement already satisfied: numpy>=1.13.1 in /usr/local/lib/python3.6/dist-packages (from xlogit==0.0.1) (1.18.5)\n",
            "Requirement already satisfied: scipy>=1.0.0 in /usr/local/lib/python3.6/dist-packages (from xlogit==0.0.1) (1.4.1)\n",
            "Building wheels for collected packages: xlogit\n",
            "  Building wheel for xlogit (setup.py) ... \u001b[?25l\u001b[?25hdone\n",
            "  Created wheel for xlogit: filename=xlogit-0.0.1-cp36-none-any.whl size=12633 sha256=14ba7115e016f32de1d16a2bd89d8d7858ffad19728259c7f1a0f315fe63a0f0\n",
            "  Stored in directory: /tmp/pip-ephem-wheel-cache-moxtl9gk/wheels/64/50/8d/a97e0500aac20b521a2896234d6598045323a7d0daca37648a\n",
            "Successfully built xlogit\n",
            "Installing collected packages: xlogit\n",
            "Successfully installed xlogit-0.0.1\n"
          ],
          "name": "stdout"
        }
      ]
    },
    {
      "cell_type": "markdown",
      "metadata": {
        "id": "CUDXAA26kOfK"
      },
      "source": [
        "## Read data using pandas"
      ]
    },
    {
      "cell_type": "code",
      "metadata": {
        "colab": {
          "base_uri": "https://localhost:8080/",
          "height": 424
        },
        "id": "B5JFuzuIkIig",
        "outputId": "ddd09876-dc02-40e6-c2c8-671852874b8f"
      },
      "source": [
        "import pandas as pd\n",
        "data_file = \"https://raw.githubusercontent.com/arteagac/xlogit/master/examples/data/fishing_long.csv\"\n",
        "df = pd.read_csv(data_file)\n",
        "df"
      ],
      "execution_count": null,
      "outputs": [
        {
          "output_type": "execute_result",
          "data": {
            "text/html": [
              "<div>\n",
              "<style scoped>\n",
              "    .dataframe tbody tr th:only-of-type {\n",
              "        vertical-align: middle;\n",
              "    }\n",
              "\n",
              "    .dataframe tbody tr th {\n",
              "        vertical-align: top;\n",
              "    }\n",
              "\n",
              "    .dataframe thead th {\n",
              "        text-align: right;\n",
              "    }\n",
              "</style>\n",
              "<table border=\"1\" class=\"dataframe\">\n",
              "  <thead>\n",
              "    <tr style=\"text-align: right;\">\n",
              "      <th></th>\n",
              "      <th>id</th>\n",
              "      <th>alt</th>\n",
              "      <th>choice</th>\n",
              "      <th>income</th>\n",
              "      <th>price</th>\n",
              "      <th>catch</th>\n",
              "    </tr>\n",
              "  </thead>\n",
              "  <tbody>\n",
              "    <tr>\n",
              "      <th>0</th>\n",
              "      <td>1</td>\n",
              "      <td>beach</td>\n",
              "      <td>0</td>\n",
              "      <td>7083.33170</td>\n",
              "      <td>157.930</td>\n",
              "      <td>0.0678</td>\n",
              "    </tr>\n",
              "    <tr>\n",
              "      <th>1</th>\n",
              "      <td>1</td>\n",
              "      <td>boat</td>\n",
              "      <td>0</td>\n",
              "      <td>7083.33170</td>\n",
              "      <td>157.930</td>\n",
              "      <td>0.2601</td>\n",
              "    </tr>\n",
              "    <tr>\n",
              "      <th>2</th>\n",
              "      <td>1</td>\n",
              "      <td>charter</td>\n",
              "      <td>1</td>\n",
              "      <td>7083.33170</td>\n",
              "      <td>182.930</td>\n",
              "      <td>0.5391</td>\n",
              "    </tr>\n",
              "    <tr>\n",
              "      <th>3</th>\n",
              "      <td>1</td>\n",
              "      <td>pier</td>\n",
              "      <td>0</td>\n",
              "      <td>7083.33170</td>\n",
              "      <td>157.930</td>\n",
              "      <td>0.0503</td>\n",
              "    </tr>\n",
              "    <tr>\n",
              "      <th>4</th>\n",
              "      <td>2</td>\n",
              "      <td>beach</td>\n",
              "      <td>0</td>\n",
              "      <td>1249.99980</td>\n",
              "      <td>15.114</td>\n",
              "      <td>0.1049</td>\n",
              "    </tr>\n",
              "    <tr>\n",
              "      <th>...</th>\n",
              "      <td>...</td>\n",
              "      <td>...</td>\n",
              "      <td>...</td>\n",
              "      <td>...</td>\n",
              "      <td>...</td>\n",
              "      <td>...</td>\n",
              "    </tr>\n",
              "    <tr>\n",
              "      <th>4723</th>\n",
              "      <td>1181</td>\n",
              "      <td>pier</td>\n",
              "      <td>0</td>\n",
              "      <td>416.66668</td>\n",
              "      <td>36.636</td>\n",
              "      <td>0.4522</td>\n",
              "    </tr>\n",
              "    <tr>\n",
              "      <th>4724</th>\n",
              "      <td>1182</td>\n",
              "      <td>beach</td>\n",
              "      <td>0</td>\n",
              "      <td>6250.00130</td>\n",
              "      <td>339.890</td>\n",
              "      <td>0.2537</td>\n",
              "    </tr>\n",
              "    <tr>\n",
              "      <th>4725</th>\n",
              "      <td>1182</td>\n",
              "      <td>boat</td>\n",
              "      <td>1</td>\n",
              "      <td>6250.00130</td>\n",
              "      <td>235.436</td>\n",
              "      <td>0.6817</td>\n",
              "    </tr>\n",
              "    <tr>\n",
              "      <th>4726</th>\n",
              "      <td>1182</td>\n",
              "      <td>charter</td>\n",
              "      <td>0</td>\n",
              "      <td>6250.00130</td>\n",
              "      <td>260.436</td>\n",
              "      <td>2.3014</td>\n",
              "    </tr>\n",
              "    <tr>\n",
              "      <th>4727</th>\n",
              "      <td>1182</td>\n",
              "      <td>pier</td>\n",
              "      <td>0</td>\n",
              "      <td>6250.00130</td>\n",
              "      <td>339.890</td>\n",
              "      <td>0.1498</td>\n",
              "    </tr>\n",
              "  </tbody>\n",
              "</table>\n",
              "<p>4728 rows × 6 columns</p>\n",
              "</div>"
            ],
            "text/plain": [
              "        id      alt  choice      income    price   catch\n",
              "0        1    beach       0  7083.33170  157.930  0.0678\n",
              "1        1     boat       0  7083.33170  157.930  0.2601\n",
              "2        1  charter       1  7083.33170  182.930  0.5391\n",
              "3        1     pier       0  7083.33170  157.930  0.0503\n",
              "4        2    beach       0  1249.99980   15.114  0.1049\n",
              "...    ...      ...     ...         ...      ...     ...\n",
              "4723  1181     pier       0   416.66668   36.636  0.4522\n",
              "4724  1182    beach       0  6250.00130  339.890  0.2537\n",
              "4725  1182     boat       1  6250.00130  235.436  0.6817\n",
              "4726  1182  charter       0  6250.00130  260.436  2.3014\n",
              "4727  1182     pier       0  6250.00130  339.890  0.1498\n",
              "\n",
              "[4728 rows x 6 columns]"
            ]
          },
          "metadata": {
            "tags": []
          },
          "execution_count": 2
        }
      ]
    },
    {
      "cell_type": "markdown",
      "metadata": {
        "id": "lWRwZ4KLkqhg"
      },
      "source": [
        "## Estimate model with both alternative specific and individual specific variables"
      ]
    },
    {
      "cell_type": "code",
      "metadata": {
        "colab": {
          "base_uri": "https://localhost:8080/"
        },
        "id": "JnYczrXDksg5",
        "outputId": "176cf508-da99-43e9-d6ae-cc6d3c679010"
      },
      "source": [
        "from xlogit import MultinomialLogit\n",
        "varnames = ['income','price']\n",
        "X = df[varnames]\n",
        "y = df['choice']\n",
        "\n",
        "model = MultinomialLogit()\n",
        "model.fit(X, y, varnames= varnames, isvars = ['income'], alts=df['alt'], fit_intercept=True)\n",
        "model.summary()"
      ],
      "execution_count": null,
      "outputs": [
        {
          "output_type": "stream",
          "text": [
            "Estimation time= 0.0 seconds\n",
            "---------------------------------------------------------------------------\n",
            "Coefficient              Estimate      Std.Err.         z-val         P>|z|\n",
            "---------------------------------------------------------------------------\n",
            "_intercept.boat         0.4928936     0.2053371     2.4004118        0.0449 *  \n",
            "_intercept.charter      1.8540668     0.2097451     8.8396174      2.87e-17 ***\n",
            "_intercept.pier         0.7526662     0.2042534     3.6849637      0.000928 ***\n",
            "income.boat             0.0000933     0.0000471     1.9810953         0.112    \n",
            "income.charter         -0.0000325     0.0000478    -0.6789829         0.633    \n",
            "income.pier            -0.0001267     0.0000466    -2.7209078        0.0199 *  \n",
            "price                  -0.0255643     0.0015154   -16.8700891      3.03e-56 ***\n",
            "---------------------------------------------------------------------------\n",
            "Significance:  0 '***' 0.001 '**' 0.01 '*' 0.05 '.' 0.1 ' ' 1\n",
            "\n",
            "Log-Likelihood= -1220.535\n",
            "AIC= 2455.069\n",
            "BIC= 2490.594\n"
          ],
          "name": "stdout"
        }
      ]
    },
    {
      "cell_type": "markdown",
      "metadata": {
        "id": "xdSnyepIlMKl"
      },
      "source": [
        "## Estimate model with only individual specific variables\n"
      ]
    },
    {
      "cell_type": "code",
      "metadata": {
        "colab": {
          "base_uri": "https://localhost:8080/"
        },
        "id": "qiGiAEkdlQMq",
        "outputId": "5e455ec3-2ab4-4e5f-efe5-6e24e7e17afc"
      },
      "source": [
        "varnames = ['income']\n",
        "X = df[varnames]\n",
        "y = df['choice']\n",
        "\n",
        "model = MultinomialLogit()\n",
        "model.fit(X, y, varnames= varnames, isvars = ['income'], alts=df['alt'], fit_intercept=True)\n",
        "model.summary()"
      ],
      "execution_count": null,
      "outputs": [
        {
          "output_type": "stream",
          "text": [
            "Estimation time= 0.0 seconds\n",
            "---------------------------------------------------------------------------\n",
            "Coefficient              Estimate      Std.Err.         z-val         P>|z|\n",
            "---------------------------------------------------------------------------\n",
            "_intercept.boat         0.7389145     0.1946426     3.7962627      0.000615 ***\n",
            "_intercept.charter      1.3412894     0.1909361     7.0248091      2.48e-11 ***\n",
            "_intercept.pier         0.8141525     0.2246576     3.6239708       0.00116 ** \n",
            "income.boat             0.0000919     0.0000394     2.3333489        0.0526 .  \n",
            "income.charter         -0.0000316     0.0000403    -0.7849623         0.586    \n",
            "income.pier            -0.0001434     0.0000519    -2.7629113        0.0177 *  \n",
            "---------------------------------------------------------------------------\n",
            "Significance:  0 '***' 0.001 '**' 0.01 '*' 0.05 '.' 0.1 ' ' 1\n",
            "\n",
            "Log-Likelihood= -1477.151\n",
            "AIC= 2966.301\n",
            "BIC= 2996.751\n"
          ],
          "name": "stdout"
        }
      ]
    }
  ]
}