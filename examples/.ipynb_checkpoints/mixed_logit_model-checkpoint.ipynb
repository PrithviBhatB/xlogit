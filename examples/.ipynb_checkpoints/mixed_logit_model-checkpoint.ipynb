{
 "cells": [
  {
   "cell_type": "markdown",
   "metadata": {
    "colab_type": "text",
    "id": "view-in-github"
   },
   "source": [
    "<a href=\"https://colab.research.google.com/github/arteagac/xlogit/blob/master/examples/mixed_logit_model.ipynb\" target=\"_parent\"><img src=\"https://colab.research.google.com/assets/colab-badge.svg\" alt=\"Open In Colab\"/></a>"
   ]
  },
  {
   "cell_type": "markdown",
   "metadata": {
    "id": "TJHlxbR5kEe-"
   },
   "source": [
    "# Mixed Logit"
   ]
  },
  {
   "cell_type": "markdown",
   "metadata": {
    "id": "qXO6ZtU_F2b4"
   },
   "source": [
    "The purpose of this notebook is to provide users with a step-by-step guide for estimating mixed logit models using xlogit package. "
   ]
  },
  {
   "cell_type": "markdown",
   "metadata": {
    "id": "mra0NiIOFSie"
   },
   "source": [
    "## Install and import `xlogit` package"
   ]
  },
  {
   "cell_type": "markdown",
   "metadata": {
    "id": "rvLSzJP1GfP1"
   },
   "source": [
    "Install `xlogit` package using pip install as shown below:"
   ]
  },
  {
   "cell_type": "code",
   "execution_count": 1,
   "metadata": {
    "colab": {
     "base_uri": "https://localhost:8080/"
    },
    "id": "V9wp9JfvjvkQ",
    "outputId": "d3b1bba9-5145-4357-8e3e-332024ce0065"
   },
   "outputs": [
    {
     "name": "stdout",
     "output_type": "stream",
     "text": [
      "Collecting git+https://github.com/arteagac/xlogit\n",
      "  Cloning https://github.com/arteagac/xlogit to /private/var/folders/_z/ms2f3nmn0bb7wk4py9_pz7900000gp/T/pip-req-build-d_5375_n\n",
      "  Running command git clone -q https://github.com/arteagac/xlogit /private/var/folders/_z/ms2f3nmn0bb7wk4py9_pz7900000gp/T/pip-req-build-d_5375_n\n",
      "Requirement already satisfied: numpy>=1.13.1 in /Library/Frameworks/Python.framework/Versions/3.7/lib/python3.7/site-packages (from xlogit==0.1.1) (1.20.1)\n",
      "Requirement already satisfied: scipy>=1.0.0 in /Library/Frameworks/Python.framework/Versions/3.7/lib/python3.7/site-packages (from xlogit==0.1.1) (1.6.0)\n",
      "\u001b[33mWARNING: You are using pip version 21.0; however, version 21.0.1 is available.\n",
      "You should consider upgrading via the '/Library/Frameworks/Python.framework/Versions/3.7/bin/python3.7 -m pip install --upgrade pip' command.\u001b[0m\n"
     ]
    },
    {
     "ename": "ModuleNotFoundError",
     "evalue": "No module named 'xlogit'",
     "output_type": "error",
     "traceback": [
      "\u001b[0;31m---------------------------------------------------------------------------\u001b[0m",
      "\u001b[0;31mModuleNotFoundError\u001b[0m                       Traceback (most recent call last)",
      "\u001b[0;32m<ipython-input-1-256043ed87a4>\u001b[0m in \u001b[0;36m<module>\u001b[0;34m\u001b[0m\n\u001b[1;32m      1\u001b[0m \u001b[0mget_ipython\u001b[0m\u001b[0;34m(\u001b[0m\u001b[0;34m)\u001b[0m\u001b[0;34m.\u001b[0m\u001b[0msystem\u001b[0m\u001b[0;34m(\u001b[0m\u001b[0;34m'pip install git+https://github.com/arteagac/xlogit'\u001b[0m\u001b[0;34m)\u001b[0m\u001b[0;34m\u001b[0m\u001b[0;34m\u001b[0m\u001b[0m\n\u001b[0;32m----> 2\u001b[0;31m \u001b[0;32mfrom\u001b[0m \u001b[0mxlogit\u001b[0m \u001b[0;32mimport\u001b[0m \u001b[0mMixedLogit\u001b[0m\u001b[0;34m\u001b[0m\u001b[0;34m\u001b[0m\u001b[0m\n\u001b[0m\u001b[1;32m      3\u001b[0m \u001b[0mMixedLogit\u001b[0m\u001b[0;34m.\u001b[0m\u001b[0mcheck_if_gpu_available\u001b[0m\u001b[0;34m(\u001b[0m\u001b[0;34m)\u001b[0m\u001b[0;34m\u001b[0m\u001b[0;34m\u001b[0m\u001b[0m\n",
      "\u001b[0;31mModuleNotFoundError\u001b[0m: No module named 'xlogit'"
     ]
    }
   ],
   "source": [
    "# !pip install git+https://github.com/arteagac/xlogit\n",
    "# from xlogit import MixedLogit\n",
    "# MixedLogit.check_if_gpu_available()"
   ]
  },
  {
   "cell_type": "code",
   "execution_count": null,
   "metadata": {},
   "outputs": [],
   "source": [
    "!pip install xlogit -U"
   ]
  },
  {
   "cell_type": "markdown",
   "metadata": {
    "id": "dt6rAYtH3Djj"
   },
   "source": [
    "## Electricity Dataset"
   ]
  },
  {
   "cell_type": "markdown",
   "metadata": {
    "id": "4y0MOFfOHzWb"
   },
   "source": [
    "For the first example, we use the Electricity dataset from the study https://escholarship.org/content/qt1900p96t/qt1900p96t.pdf. This dataset is popularly used in examples of R's mlogit package and can be downloaded from https://raw.githubusercontent.com/arteagac/xlogit/master/examples/data/electricity_long.csv\" in the long format. The dataset is  from a stated choice experiment conducted to analyse customers' preferences towards four hypothetical electricity suppliers. "
   ]
  },
  {
   "cell_type": "markdown",
   "metadata": {
    "id": "wOjSrftv3Gtm"
   },
   "source": [
    "### Read data"
   ]
  },
  {
   "cell_type": "code",
   "execution_count": null,
   "metadata": {
    "colab": {
     "base_uri": "https://localhost:8080/",
     "height": 419
    },
    "id": "fLgHickp3IJw",
    "outputId": "8b4d3040-1b48-4e83-80bc-270b3583c7ad"
   },
   "outputs": [],
   "source": [
    "import pandas as pd\n",
    "import numpy as np\n",
    "df = pd.read_csv(\"https://raw.githubusercontent.com/arteagac/xlogit/master/examples/data/electricity_long.csv\")\n",
    "df"
   ]
  },
  {
   "cell_type": "markdown",
   "metadata": {
    "id": "BTt5KWSee29E"
   },
   "source": [
    "The dataset is in panel form, with each individual reporting preferences for upto 12 choice situations. Since, all inidividuals have not responded to all the 12 situations, the dataset in an unbalanced panel. 361 individuals were interviewed with a total of 4,308 observations. See https://cran.r-project.org/web/packages/mlogit/vignettes/e3mxlogit.html for more details on the attributes and the choice analyses."
   ]
  },
  {
   "cell_type": "markdown",
   "metadata": {
    "id": "gFUpTIpU3-Oi"
   },
   "source": [
    "### Fit the model"
   ]
  },
  {
   "cell_type": "markdown",
   "metadata": {
    "id": "_JCeWHSLe7f9"
   },
   "source": [
    "The data needs to be in long format. The user inputs required to fit the model are as follows:\n",
    "\n",
    "1.   `X`: dataframe columns with respect to varnames\n",
    "2.   `y`: dataframe column containing the choice outcome\n",
    "3.   `varnames`: list containing all the explanatory variable names to be included in the model \n",
    "4.   `isvars`: list of individual-specific variables in varnames\n",
    "5.   `alts`: dataframe column containing the alternative ids\n",
    "6.   `randvars`: dictionary of mixing distributions. Possible distributions include 'n'-normal; 'u'-uniform; 'ln'-lognormal; 'tn'-truncated normal; 't'-triangular\n",
    "7.   `panels`: dataframe column containing the unique individual id\n",
    "8.   `n_draws`: number of random draws for the cofficients (default value is 100)\n",
    "\n",
    "The model.fit object from class MixedLogit is called to fit the model. The fit results can be seen using model.summary()."
   ]
  },
  {
   "cell_type": "code",
   "execution_count": null,
   "metadata": {
    "colab": {
     "base_uri": "https://localhost:8080/"
    },
    "id": "It7kU3GE3XV0",
    "outputId": "0e6efe68-cc21-4a61-9d2f-5563eb9f67cf"
   },
   "outputs": [],
   "source": [
    "varnames = [\"pf\", \"cl\", \"loc\", \"wk\", \"tod\", \"seas\"]\n",
    "\n",
    "X = df[varnames].values\n",
    "y = df['choice'].values\n",
    "\n",
    "\n",
    "from xlogit import MixedLogit\n",
    "model = MixedLogit()\n",
    "model.fit(X, y, \n",
    "          varnames, \n",
    "          alts=df['alt'], \n",
    "          randvars={'pf': 'n','cl':'n','loc':'n','wk':'n','tod':'n','seas':'n'}, \n",
    "          panels=df.id.values,\n",
    "          n_draws=600)\n",
    "model.summary()"
   ]
  },
  {
   "cell_type": "markdown",
   "metadata": {
    "id": "GWm-ydF3kxSr"
   },
   "source": [
    "The xlogit estimates are similar to those estimated using R's mlogit package (https://cran.r-project.org/web/packages/mlogit/vignettes/e3mxlogit.html). With GPU enables estimations, xlogit estimates the model in less than 20 seconds, significantly faster than open-source pacakges such as mlogit and Biogeme. This feature can be beneficial while fitting models for large datasets with multiple explanatory variables to be estimated with random coefficients."
   ]
  },
  {
   "cell_type": "markdown",
   "metadata": {
    "id": "POLdCqWhJ8nt"
   },
   "source": [
    "Other random distributions for coefficients can also used. We will now use logarithmic distributions of 'tod' and 'seas' variables. Since these are price related variables, we expect to obtain negative coefficients. Therefore, we will first reverse their signs in the dataframe as shown:"
   ]
  },
  {
   "cell_type": "code",
   "execution_count": null,
   "metadata": {
    "id": "esHfNjEHJ6sv"
   },
   "outputs": [],
   "source": [
    "df['tod'] = -df['tod']\n",
    "df['seas'] = -df['seas']"
   ]
  },
  {
   "cell_type": "code",
   "execution_count": null,
   "metadata": {
    "colab": {
     "base_uri": "https://localhost:8080/"
    },
    "id": "0jmJeGzrKfdx",
    "outputId": "03f2877a-c23b-4111-8a97-757aa4cf2532"
   },
   "outputs": [],
   "source": [
    "varnames = [\"pf\", \"cl\", \"loc\", \"wk\", \"tod\", \"seas\"]\n",
    "\n",
    "X = df[varnames].values\n",
    "y = df['choice'].values\n",
    "\n",
    "\n",
    "from xlogit import MixedLogit\n",
    "model = MixedLogit()\n",
    "model.fit(X, y, \n",
    "          varnames, \n",
    "          alts=df['alt'], \n",
    "          randvars={'pf': 'n','cl':'n','loc':'n','wk':'n','tod':'ln','seas':'ln'}, \n",
    "          panels=df.id.values,\n",
    "          n_draws=600)\n",
    "model.summary()"
   ]
  },
  {
   "cell_type": "markdown",
   "metadata": {
    "id": "r9gxNL0XePRc"
   },
   "source": [
    "## Fishing Dataset"
   ]
  },
  {
   "cell_type": "markdown",
   "metadata": {
    "id": "Innu2ypbmKui"
   },
   "source": [
    "The second example uses the revealed preferences dataset of fishing mode choice of 1,182 individuals. The dataset is also open-source dataset and is used in mlogit examples. It can be downloaded from https://raw.githubusercontent.com/arteagac/xlogit/master/examples/data/fishing_long.csv in long format. More information on the dataset can be found in http://www2.uaem.mx/r-mirror/web/packages/mlogit/vignettes/mlogit.pdf"
   ]
  },
  {
   "cell_type": "markdown",
   "metadata": {
    "id": "cqBJWh8eOQDp"
   },
   "source": [
    "### Read data"
   ]
  },
  {
   "cell_type": "code",
   "execution_count": null,
   "metadata": {
    "colab": {
     "base_uri": "https://localhost:8080/",
     "height": 419
    },
    "id": "9jDr3PIveaG8",
    "outputId": "98424d71-8ae3-4f49-b041-3929f919bf50"
   },
   "outputs": [],
   "source": [
    "import pandas as pd\n",
    "df = pd.read_csv(\"https://raw.githubusercontent.com/arteagac/xlogit/master/examples/data/fishing_long.csv\")\n",
    "df"
   ]
  },
  {
   "cell_type": "markdown",
   "metadata": {
    "id": "e3DfYUX7nJTK"
   },
   "source": [
    "Four alternatives are considered in the dataset: beach, boat, charter and pier. There are two alternative-specific variables: 'price' and 'catch' and one individual-specific variable 'income'. We can estimate alternative-specific intercepts by using the fit_intercept option. First alternative is the default whose coefficeint value is set to zero. You can change the default alternative using the base_alt option."
   ]
  },
  {
   "cell_type": "markdown",
   "metadata": {
    "id": "rffV7cx8ORpP"
   },
   "source": [
    "### Fit model"
   ]
  },
  {
   "cell_type": "code",
   "execution_count": null,
   "metadata": {
    "colab": {
     "base_uri": "https://localhost:8080/"
    },
    "id": "FIZwBe0zedfh",
    "outputId": "b9f5f1a4-4aff-4670-853e-b84794fafa13"
   },
   "outputs": [],
   "source": [
    "varnames = ['price','catch']\n",
    "X = df[varnames].values\n",
    "y = df['choice'].values\n",
    "\n",
    "from xlogit import MixedLogit\n",
    "model = MixedLogit()\n",
    "model.fit(X, y, varnames= varnames,\n",
    "          alts=['beach', 'boat', 'charter', 'pier'],\n",
    "          randvars = {'price': 'n', 'catch': 'n'}, fit_intercept = True)\n",
    "model.summary()"
   ]
  },
  {
   "cell_type": "markdown",
   "metadata": {
    "id": "EP3iPKMevHDe"
   },
   "source": [
    "## SwissMetro Dataset"
   ]
  },
  {
   "cell_type": "markdown",
   "metadata": {
    "id": "I-h-PdjbzYet"
   },
   "source": [
    "### Read data"
   ]
  },
  {
   "cell_type": "code",
   "execution_count": null,
   "metadata": {
    "colab": {
     "base_uri": "https://localhost:8080/",
     "height": 424
    },
    "id": "AQ7L5qFuzZoo",
    "outputId": "ee923813-fc35-4bf6-e569-83f60243c1d0"
   },
   "outputs": [],
   "source": [
    "import pandas as pd\n",
    "import numpy as np\n",
    "\n",
    "df_wide = pd.read_table(\"http://transp-or.epfl.ch/data/swissmetro.dat\", sep=\"\\t\")\n",
    "\n",
    "# Keep only samples with known choice and purpose commute or business\n",
    "df_wide = df_wide[(df_wide['PURPOSE'].isin([1, 3]) & (df_wide['CHOICE'] != 0))]\n",
    "df_wide['custom_id'] = np.arange(len(df_wide))  # Add unique identifier column\n",
    "\n",
    "df_wide"
   ]
  },
  {
   "cell_type": "markdown",
   "metadata": {
    "id": "1vlNUknLzbUZ"
   },
   "source": [
    "### Convert data to long format"
   ]
  },
  {
   "cell_type": "code",
   "execution_count": null,
   "metadata": {
    "colab": {
     "base_uri": "https://localhost:8080/",
     "height": 424
    },
    "id": "fPpq6CBPzfAC",
    "outputId": "a8260a67-5e3f-4fe3-bd8e-9018ba34e590"
   },
   "outputs": [],
   "source": [
    "# Rename columns to match format expected by pandas (first varname and then suffix)\n",
    "df_wide.rename(columns={\"TRAIN_TT\": \"time_train\", \"SM_TT\": \"time_sm\", \"CAR_TT\": \"time_car\",\n",
    "                        \"TRAIN_CO\": \"cost_train\",\"SM_CO\": \"cost_sm\", \"CAR_CO\": \"cost_car\",\n",
    "                        \"TRAIN_HE\": \"headway_train\", \"SM_HE\": \"headway_sm\", \"SM_SEATS\": \"seatconf_sm\",\n",
    "                        \"TRAIN_AV\": \"av_train\", \"SM_AV\": \"av_sm\",\"CAR_AV\": \"av_car\"}, inplace=True)\n",
    " \n",
    "# Convert from wide to long format using pandas.\n",
    "df = pd.wide_to_long(df_wide, [\"time\", \"cost\", \"headway\", \"seatconf\", \"av\"],\n",
    "                     i=\"custom_id\", j=\"alt\", sep=\"_\", suffix='\\w+').sort_values(\n",
    "                         by=['custom_id', 'alt']).reset_index()\n",
    "\n",
    "# Fill unexisting values for some alternatives\n",
    "df = df.fillna(0)  \n",
    "# Format the outcome variable approapriatly\n",
    "df[\"CHOICE\"] = df[\"CHOICE\"].map({1: 'train', 2:'sm', 3: 'car'})\n",
    "# Convert CHOICE to True if alternative was selected; False otherwise\n",
    "df[\"CHOICE\"] = df[\"CHOICE\"] == df[\"alt\"]\n",
    "df"
   ]
  },
  {
   "cell_type": "markdown",
   "metadata": {
    "id": "z_HmbuoN3Q12"
   },
   "source": [
    "### Create specification"
   ]
  },
  {
   "cell_type": "code",
   "execution_count": null,
   "metadata": {
    "id": "G0oxMsa40NQs"
   },
   "outputs": [],
   "source": [
    "# Scale variables\n",
    "df['time'] = df['time']/100\n",
    "train_pass = ((df[\"GA\"] == 1) & (df[\"alt\"].isin(['train', 'sm']))).astype(int)\n",
    "df['cost'] = df['cost']*(train_pass==0)/100\n",
    " \n",
    "# Create alternative specific constants\n",
    "df['asc_train'] = np.ones(len(df))*(df['alt'] == 'train')\n",
    "df['asc_car'] = np.ones(len(df))*(df['alt'] == 'car')"
   ]
  },
  {
   "cell_type": "markdown",
   "metadata": {
    "id": "uu1xpiZP0cA5"
   },
   "source": [
    "### Estimate the model"
   ]
  },
  {
   "cell_type": "code",
   "execution_count": null,
   "metadata": {
    "colab": {
     "base_uri": "https://localhost:8080/"
    },
    "id": "Ca58H_cuz5EC",
    "outputId": "a4abd943-2a2a-4ef8-96dc-59a1ce5c5200"
   },
   "outputs": [],
   "source": [
    "from xlogit import MixedLogit\n",
    "\n",
    "varnames=['asc_car', 'asc_train', 'cost', 'time']\n",
    "model = MixedLogit()\n",
    "model.fit(X=df[varnames], y=df['CHOICE'], varnames=varnames, alts=df['alt'],\n",
    "          ids=df['custom_id'], avail=df['av'], randvars={'time': 'n'}, n_draws=2000)\n",
    "model.summary()"
   ]
  },
  {
   "cell_type": "markdown",
   "metadata": {
    "id": "YnolU8UF1P4N"
   },
   "source": [
    "The estimates are very similar to the ones returned by biogeme ([see biogeme results here](https://biogeme.epfl.ch/examples/swissmetro/05normalMixture.html)). The slight differences are due to the different random draws used. Note that this estimation took around 6 seconds using 2,000 random draws. "
   ]
  },
  {
   "cell_type": "markdown",
   "metadata": {
    "id": "mWU80LmcODPY"
   },
   "source": [
    "## Car Dataset"
   ]
  },
  {
   "cell_type": "markdown",
   "metadata": {
    "id": "q1zgiBGKouPr"
   },
   "source": [
    "The third example uses a stated preference panel dataset for choice of car. Three alternatives are considered, with upto 6 choice situations per individual. This again is an unbalanced panel with responses of some individuals less than 6 situations. The dataset contains 8 explanaotry variables: price, operating cost, range, and binary indicators to indicate whether the car is electric, hybrid, and if performance is high or medium respectively. The dataset can be downloaded from https://raw.githubusercontent.com/arteagac/xlogit/master/examples/data/car100_long.csv in the long format."
   ]
  },
  {
   "cell_type": "markdown",
   "metadata": {
    "id": "SoSyQfjqkNU3"
   },
   "source": [
    "### Read data"
   ]
  },
  {
   "cell_type": "code",
   "execution_count": null,
   "metadata": {
    "id": "v8AAMruCj8tt"
   },
   "outputs": [],
   "source": [
    "import pandas as pd\n",
    "import numpy as np\n",
    "\n",
    "df = pd.read_csv(\"https://raw.githubusercontent.com/arteagac/xlogit/master/examples/data/car100_long.csv\")\n"
   ]
  },
  {
   "cell_type": "markdown",
   "metadata": {
    "id": "0HY7mT__Lj5b"
   },
   "source": [
    "Since price and operating cost need to be estimated with negative coefficients, we reverse the variable signs in the dataframe. "
   ]
  },
  {
   "cell_type": "code",
   "execution_count": null,
   "metadata": {
    "colab": {
     "base_uri": "https://localhost:8080/",
     "height": 419
    },
    "id": "TQ33gsZZLkP5",
    "outputId": "3df17baf-bfd3-47ff-edcb-b53063491ed7"
   },
   "outputs": [],
   "source": [
    "df.price = -1*df.price/10000\n",
    "df.operating_cost = -1*df.operating_cost\n",
    "df"
   ]
  },
  {
   "cell_type": "markdown",
   "metadata": {
    "id": "_ZQf9DFKFE5j"
   },
   "source": [
    "### Fit the model"
   ]
  },
  {
   "cell_type": "code",
   "execution_count": null,
   "metadata": {
    "colab": {
     "base_uri": "https://localhost:8080/"
    },
    "id": "_MhfvmWgFCX6",
    "outputId": "67f006c4-28e7-4421-f3fd-333566dd361a"
   },
   "outputs": [],
   "source": [
    "varnames = ['high_performance','medium_performance','price', 'operating_cost',\n",
    "            'range', 'electric', 'hybrid'] \n",
    "\n",
    "X = df[varnames].values\n",
    "y = df['choice'].values\n",
    "\n",
    "from xlogit import MixedLogit\n",
    "model = MixedLogit()\n",
    "model.fit(X, y, varnames = varnames,\n",
    "          alts=['car','bus','bike'],\n",
    "          randvars = {'price': 'ln', 'operating_cost': 'n',\n",
    "                      'range': 'ln', 'electric':'n', 'hybrid': 'n'}, \n",
    "          panels=df.person_id.values, #Panel column\n",
    "          n_draws = 100) \n",
    "model.summary()"
   ]
  }
 ],
 "metadata": {
  "accelerator": "GPU",
  "colab": {
   "collapsed_sections": [],
   "include_colab_link": true,
   "name": "mixed_logit_model.ipynb",
   "provenance": []
  },
  "kernelspec": {
   "display_name": "Python 3",
   "language": "python",
   "name": "python3"
  },
  "language_info": {
   "codemirror_mode": {
    "name": "ipython",
    "version": 3
   },
   "file_extension": ".py",
   "mimetype": "text/x-python",
   "name": "python",
   "nbconvert_exporter": "python",
   "pygments_lexer": "ipython3",
   "version": "3.8.3"
  }
 },
 "nbformat": 4,
 "nbformat_minor": 1
}
