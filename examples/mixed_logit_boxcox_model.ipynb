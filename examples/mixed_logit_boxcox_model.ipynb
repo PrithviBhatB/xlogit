{
 "cells": [
  {
   "cell_type": "markdown",
   "metadata": {},
   "source": [
    "## Install the xlogit library"
   ]
  },
  {
   "cell_type": "code",
   "execution_count": 1,
   "metadata": {},
   "outputs": [
    {
     "name": "stdout",
     "output_type": "stream",
     "text": [
      "Requirement already satisfied: xlogit in /Users/ryankelly/opt/anaconda3/lib/python3.8/site-packages (0.0.1)\r\n",
      "Requirement already satisfied: scipy>=1.0.0 in /Users/ryankelly/opt/anaconda3/lib/python3.8/site-packages (from xlogit) (1.5.0)\r\n",
      "Requirement already satisfied: numpy>=1.13.1 in /Users/ryankelly/opt/anaconda3/lib/python3.8/site-packages (from xlogit) (1.18.5)\r\n"
     ]
    }
   ],
   "source": [
    "!pip install xlogit"
   ]
  },
  {
   "cell_type": "markdown",
   "metadata": {},
   "source": [
    "## Electricity Dataset¶\n"
   ]
  },
  {
   "cell_type": "markdown",
   "metadata": {},
   "source": [
    "### Read Data"
   ]
  },
  {
   "cell_type": "code",
   "execution_count": 2,
   "metadata": {},
   "outputs": [],
   "source": [
    "import pandas as pd\n",
    "import numpy as np\n",
    "df = pd.read_csv(\"https://raw.githubusercontent.com/arteagac/xlogit/master/examples/data/electricity_long.csv\")\n",
    "\n",
    "varnames = [\"pf\", \"cl\", \"loc\", \"wk\", \"tod\", \"seas\"]\n",
    "X = df[varnames].values\n",
    "y = df['choice'].values\n",
    "alt =[1, 2, 3, 4]"
   ]
  },
  {
   "cell_type": "markdown",
   "metadata": {},
   "source": [
    "### Fit the model"
   ]
  },
  {
   "cell_type": "code",
   "execution_count": 4,
   "metadata": {},
   "outputs": [
    {
     "name": "stdout",
     "output_type": "stream",
     "text": [
      "Estimation succesfully completed after 50 iterations. Use .summary() to see the estimated values\n",
      "---------------------------------------------------------------------------\n",
      "Coefficient              Estimate      Std.Err.         z-val         P>|z|\n",
      "---------------------------------------------------------------------------\n",
      "pf                     -0.9935918     0.0360948   -27.5273099      9.76e-90 ***\n",
      "cl                     -9.6142963     0.3053500   -31.4861505     1.21e-104 ***\n",
      "loc                     1.6337682     0.0915856    17.8387028      1.65e-50 ***\n",
      "wk                      2.4025854     0.1237394    19.4164894      4.92e-57 ***\n",
      "tod                    -0.2288137     0.0215649   -10.6104747      3.66e-22 ***\n",
      "seas                   -9.4934221     0.3182281   -29.8321301      1.62e-98 ***\n",
      "sd.pf                   0.2036154     0.0174133    11.6931064      4.52e-26 ***\n",
      "sd.cl                   1.7463886     0.1693084    10.3148359      3.96e-21 ***\n",
      "sd.loc                  1.2320744     0.0907860    13.5711956      3.14e-33 ***\n",
      "sd.wk                   1.8084171     0.1320483    13.6951180      1.03e-33 ***\n",
      "sd.tod                 -0.3856452     0.0200893   -19.1965561         4e-56 ***\n",
      "sd.seas                 2.4732962     0.2049011    12.0706840      1.78e-27 ***\n",
      "---------------------------------------------------------------------------\n",
      "Significance:  0 '***' 0.001 '**' 0.01 '*' 0.05 '.' 0.1 ' ' 1\n",
      "\n",
      "Log-Likelihood= -3898.400\n"
     ]
    }
   ],
   "source": [
    "from xlogit import MixedLogit\n",
    "\n",
    "model = MixedLogit()\n",
    "model.fit(X, y, \n",
    "          varnames, \n",
    "          alt=alt, \n",
    "          randvars={'pf': 'n','cl':'n','loc':'n','wk':'n','tod':'n','seas':'n'}, \n",
    "          mixby=df.id.values,\n",
    "          n_draws = 600)\n",
    "model.summary()"
   ]
  },
  {
   "cell_type": "markdown",
   "metadata": {},
   "source": [
    "## Fishing Dataset"
   ]
  },
  {
   "cell_type": "markdown",
   "metadata": {},
   "source": [
    "### Read Data"
   ]
  },
  {
   "cell_type": "code",
   "execution_count": 5,
   "metadata": {},
   "outputs": [],
   "source": [
    "import pandas as pd\n",
    "df = pd.read_csv(\"https://raw.githubusercontent.com/arteagac/xlogit/master/examples/data/fishing_long.csv\")\n",
    "\n",
    "varnames = ['price','catch']\n",
    "X = df[varnames].values\n",
    "y = df['choice'].values"
   ]
  },
  {
   "cell_type": "markdown",
   "metadata": {},
   "source": [
    "### Fit the model"
   ]
  },
  {
   "cell_type": "code",
   "execution_count": 6,
   "metadata": {},
   "outputs": [
    {
     "name": "stdout",
     "output_type": "stream",
     "text": [
      "Estimation succesfully completed after 21 iterations. Use .summary() to see the estimated values\n",
      "---------------------------------------------------------------------------\n",
      "Coefficient              Estimate      Std.Err.         z-val         P>|z|\n",
      "---------------------------------------------------------------------------\n",
      "price                  -0.0274061     0.0022827   -12.0062499       2.2e-30 ***\n",
      "catch                   1.3345446     0.1735364     7.6902874      2.29e-13 ***\n",
      "sd.price                0.0104608     0.0020466     5.1113049      1.93e-06 ***\n",
      "sd.catch                1.5857201     0.3746104     4.2329844      0.000109 ***\n",
      "---------------------------------------------------------------------------\n",
      "Significance:  0 '***' 0.001 '**' 0.01 '*' 0.05 '.' 0.1 ' ' 1\n",
      "\n",
      "Log-Likelihood= -1300.227\n"
     ]
    }
   ],
   "source": [
    "from xlogit import MixedLogit\n",
    "\n",
    "model = MixedLogit()\n",
    "model.fit(X, y, varnames= varnames,\n",
    "          alt=['beach', 'boat', 'charter', 'pier'],\n",
    "          randvars = {'price': 'n', 'catch': 'n'})\n",
    "model.summary()"
   ]
  },
  {
   "cell_type": "markdown",
   "metadata": {},
   "source": [
    "## Car Dataset"
   ]
  },
  {
   "cell_type": "markdown",
   "metadata": {},
   "source": [
    "### Read Data"
   ]
  },
  {
   "cell_type": "code",
   "execution_count": 13,
   "metadata": {},
   "outputs": [],
   "source": [
    "import pandas as pd\n",
    "import numpy as np\n",
    "\n",
    "df = pd.read_csv(\"https://raw.githubusercontent.com/arteagac/xlogit/master/examples/data/car100_long.csv\")\n",
    "df.price = -1*df.price/10000\n",
    "df.operating_cost = -1*df.operating_cost\n",
    "\n",
    "varnames = ['high_performance','medium_performance','price', 'operating_cost',\n",
    "            'range', 'electric', 'hybrid'] \n",
    "\n",
    "X = df[varnames].values\n",
    "y = df['choice'].values"
   ]
  },
  {
   "cell_type": "markdown",
   "metadata": {},
   "source": [
    "### Fit the model"
   ]
  },
  {
   "cell_type": "code",
   "execution_count": 14,
   "metadata": {},
   "outputs": [
    {
     "name": "stdout",
     "output_type": "stream",
     "text": [
      "Estimation succesfully completed after 61 iterations. Use .summary() to see the estimated values\n",
      "---------------------------------------------------------------------------\n",
      "Coefficient              Estimate      Std.Err.         z-val         P>|z|\n",
      "---------------------------------------------------------------------------\n",
      "high_performance        0.1258373     0.0990277     1.2707283         0.354    \n",
      "medium_performance      0.5633766     0.0907178     6.2102108      5.59e-08 ***\n",
      "price                  -0.3069406     0.1659046    -1.8501034         0.145    \n",
      "operating_cost          0.6919817     0.0570721    12.1246890      1.17e-20 ***\n",
      "range                 -23.6485829 21450.8940603    -0.0011025         0.796    \n",
      "electric                0.0054851     0.0041877     1.3098225         0.337    \n",
      "hybrid                 -0.3082889     0.1216697    -2.5338174        0.0344 *  \n",
      "sd.price                0.7400652     0.1451258     5.0994754      6.78e-06 ***\n",
      "sd.operating_cost      -0.5539993     0.0575676    -9.6234567      3.35e-15 ***\n",
      "sd.range                0.1426225   183.3256270     0.0007780         0.796    \n",
      "sd.electric            -0.0377532     0.0050193    -7.5215630      1.17e-10 ***\n",
      "sd.hybrid               0.7580119     0.1375974     5.5089118      1.22e-06 ***\n",
      "---------------------------------------------------------------------------\n",
      "Significance:  0 '***' 0.001 '**' 0.01 '*' 0.05 '.' 0.1 ' ' 1\n",
      "\n",
      "Log-Likelihood= -1313.293\n"
     ]
    }
   ],
   "source": [
    "\n",
    "from xlogit import MixedLogit\n",
    "\n",
    "model = MixedLogit()\n",
    "model.fit(X, y, varnames = varnames,\n",
    "          alt=['car','bus','bike'],\n",
    "          randvars = {'price': 'ln', 'operating_cost': 'n',\n",
    "                      'range': 'ln', 'electric':'n', 'hybrid': 'n'}, \n",
    "          mixby = df.person_id.values, #Panel column\n",
    "          n_draws = 100) \n",
    "model.summary()"
   ]
  }
 ],
 "metadata": {
  "kernelspec": {
   "display_name": "Python 3",
   "language": "python",
   "name": "python3"
  },
  "language_info": {
   "codemirror_mode": {
    "name": "ipython",
    "version": 3
   },
   "file_extension": ".py",
   "mimetype": "text/x-python",
   "name": "python",
   "nbconvert_exporter": "python",
   "pygments_lexer": "ipython3",
   "version": "3.8.3"
  }
 },
 "nbformat": 4,
 "nbformat_minor": 4
}
