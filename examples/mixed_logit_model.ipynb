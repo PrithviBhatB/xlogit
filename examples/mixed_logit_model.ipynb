{
 "cells": [
  {
   "cell_type": "markdown",
   "metadata": {
    "colab_type": "text",
    "id": "view-in-github"
   },
   "source": [
    "<a href=\"https://colab.research.google.com/github/arteagac/xlogit/blob/master/examples/mixed_logit_model.ipynb\" target=\"_parent\"><img src=\"https://colab.research.google.com/assets/colab-badge.svg\" alt=\"Open In Colab\"/></a>"
   ]
  },
  {
   "cell_type": "markdown",
   "metadata": {
    "id": "TJHlxbR5kEe-"
   },
   "source": [
    "# Install the `xlogit` library"
   ]
  },
  {
   "cell_type": "code",
   "execution_count": null,
   "metadata": {
    "colab": {
     "base_uri": "https://localhost:8080/",
     "height": 121
    },
    "id": "V9wp9JfvjvkQ",
    "outputId": "2268912a-1b10-412c-ed64-eb335674b889"
   },
   "outputs": [
    {
     "name": "stdout",
     "output_type": "stream",
     "text": [
      "Collecting xlogit\n",
      "  Downloading https://files.pythonhosted.org/packages/22/c3/25e3dad31a12f4f169e6b2f601ad69c7f9a86ad981f2a7c7330d213f2f3f/xlogit-0.0.1-py3-none-any.whl\n",
      "Requirement already satisfied: numpy>=1.13.1 in /usr/local/lib/python3.6/dist-packages (from xlogit) (1.18.5)\n",
      "Requirement already satisfied: scipy>=1.0.0 in /usr/local/lib/python3.6/dist-packages (from xlogit) (1.4.1)\n",
      "Installing collected packages: xlogit\n",
      "Successfully installed xlogit-0.0.1\n"
     ]
    }
   ],
   "source": [
    "!pip install xlogit"
   ]
  },
  {
   "cell_type": "markdown",
   "metadata": {
    "id": "dt6rAYtH3Djj"
   },
   "source": [
    "# Electricity Dataset"
   ]
  },
  {
   "cell_type": "markdown",
   "metadata": {
    "id": "wOjSrftv3Gtm"
   },
   "source": [
    "# Read data"
   ]
  },
  {
   "cell_type": "code",
   "execution_count": null,
   "metadata": {
    "id": "fLgHickp3IJw"
   },
   "outputs": [],
   "source": [
    "import pandas as pd\n",
    "import numpy as np\n",
    "df = pd.read_csv(\"https://raw.githubusercontent.com/arteagac/xlogit/master/examples/data/electricity_long.csv\")\n",
    "\n",
    "varnames = [\"pf\", \"cl\", \"loc\", \"wk\", \"tod\", \"seas\"]\n",
    "X = df[varnames].values\n",
    "y = df['choice'].values\n",
    "alt =[1, 2, 3, 4]"
   ]
  },
  {
   "cell_type": "markdown",
   "metadata": {
    "id": "gFUpTIpU3-Oi"
   },
   "source": [
    "## Fit the model"
   ]
  },
  {
   "cell_type": "code",
   "execution_count": null,
   "metadata": {
    "colab": {
     "base_uri": "https://localhost:8080/",
     "height": 382
    },
    "id": "It7kU3GE3XV0",
    "outputId": "71af2856-f6bc-492f-aed4-62ecf8317926"
   },
   "outputs": [
    {
     "name": "stdout",
     "output_type": "stream",
     "text": [
      "**** GPU Processing Enabled ****\n",
      "Estimation succesfully completed after 50 iterations. Use .summary() to see the estimated values\n",
      "---------------------------------------------------------------------------\n",
      "Coefficient              Estimate      Std.Err.         z-val         P>|z|\n",
      "---------------------------------------------------------------------------\n",
      "pf                     -0.9858550     0.0338870   -29.0924488      9.94e-96 ***\n",
      "cl                      2.2874329     0.1218031    18.7797616      2.12e-54 ***\n",
      "loc                    -9.5325339     0.3096535   -30.7845208      4.6e-102 ***\n",
      "wk                     -9.6372933     0.2914006   -33.0723204     2.21e-110 ***\n",
      "tod                     1.6544010     0.0856374    19.3186659      1.25e-56 ***\n",
      "seas                   -0.2342388     0.0235791    -9.9341782      8.03e-20 ***\n",
      "sd.pf                   0.2130129     0.0162241    13.1293917      1.65e-31 ***\n",
      "sd.cl                  -1.7759333     0.1177779   -15.0786599      3.19e-39 ***\n",
      "sd.loc                 -2.3845331     0.1822185   -13.0861179      2.42e-31 ***\n",
      "sd.wk                  -1.4881324     0.1937953    -7.6788883      1.02e-12 ***\n",
      "sd.tod                  1.1798098     0.0848465    13.9052349      1.53e-34 ***\n",
      "sd.seas                -0.4068242     0.0227458   -17.8857027      1.05e-50 ***\n",
      "---------------------------------------------------------------------------\n",
      "Significance:  0 '***' 0.001 '**' 0.01 '*' 0.05 '.' 0.1 ' ' 1\n",
      "\n",
      "Log-Likelihood= -3892.252\n"
     ]
    }
   ],
   "source": [
    "from xlogit import MixedLogit\n",
    "\n",
    "model = MixedLogit()\n",
    "model.fit(X, y, \n",
    "          varnames, \n",
    "          alt=alt, \n",
    "          randvars={'pf': 'n','cl':'n','loc':'n','wk':'n','tod':'n','seas':'n'}, \n",
    "          mixby=df.id.values,\n",
    "          n_draws = 600)\n",
    "model.summary()"
   ]
  },
  {
   "cell_type": "markdown",
   "metadata": {
    "id": "r9gxNL0XePRc"
   },
   "source": [
    "# Fishing Dataset"
   ]
  },
  {
   "cell_type": "markdown",
   "metadata": {
    "id": "cqBJWh8eOQDp"
   },
   "source": [
    "## Read data"
   ]
  },
  {
   "cell_type": "code",
   "execution_count": 7,
   "metadata": {
    "id": "9jDr3PIveaG8"
   },
   "outputs": [],
   "source": [
    "import pandas as pd\n",
    "df = pd.read_csv(\"https://raw.githubusercontent.com/arteagac/xlogit/master/examples/data/fishing_long.csv\")\n",
    "\n",
    "varnames=['price', 'catch', 'income']\n",
    "X = df[varnames].values\n",
    "y = df['choice'].values"
   ]
  },
  {
   "cell_type": "markdown",
   "metadata": {
    "id": "rffV7cx8ORpP"
   },
   "source": [
    "## Fit model"
   ]
  },
  {
   "cell_type": "code",
   "execution_count": 8,
   "metadata": {
    "colab": {
     "base_uri": "https://localhost:8080/",
     "height": 243
    },
    "id": "FIZwBe0zedfh",
    "outputId": "9ae90ec5-bfe5-4c01-ea82-c6ed595b6a1b"
   },
   "outputs": [
    {
     "name": "stdout",
     "output_type": "stream",
     "text": [
      "**** The optimization did not converge after 36 iterations. ****\n",
      "Message: Desired error not necessarily achieved due to precision loss.\n",
      "--------------------------------------------------\n",
      "WARNING: Convergence was not reached during estimation. The given estimates may not be reliable\n",
      "**************************************************\n",
      "---------------------------------------------------------------------------\n",
      "Coefficient              Estimate      Std.Err.         z-val         P>|z|\n",
      "---------------------------------------------------------------------------\n",
      "_intercept.boat         0.4204703     0.2216889     1.8966679         0.132    \n",
      "_intercept.charter      2.2595275     0.2538649     8.9005131      1.73e-17 ***\n",
      "_intercept.pier         0.7568691     0.2224038     3.4031307        0.0025 ** \n",
      "income.boat             0.0001004     0.0000549     1.8266235         0.151    \n",
      "income.charter         -0.0000382     0.0000537    -0.7112563         0.619    \n",
      "income.pier            -0.0001224     0.0000504    -2.4282556         0.042 *  \n",
      "price                   0.4232146     0.1748278     2.4207515        0.0428 *  \n",
      "catch                  -0.0475207     0.0051873    -9.1609537      1.91e-18 ***\n",
      "sd.price               -1.2872648     0.5891420    -2.1849822        0.0735 .  \n",
      "sd.catch               -0.0242040     0.0038566    -6.2759260      3.03e-09 ***\n",
      "---------------------------------------------------------------------------\n",
      "Significance:  0 '***' 0.001 '**' 0.01 '*' 0.05 '.' 0.1 ' ' 1\n",
      "\n",
      "Log-Likelihood= -1189.182\n"
     ]
    }
   ],
   "source": [
    "from xlogit import MixedLogit\n",
    "\n",
    "model = MixedLogit()\n",
    "model.fit(X, y, varnames= varnames,\n",
    "          alt=['beach', 'boat', 'charter', 'pier'],\n",
    "          isvars=['income'],\n",
    "          randvars = {'price': 'n', 'catch': 'n'},\n",
    "          fit_intercept=True)\n",
    "model.summary()"
   ]
  },
  {
   "cell_type": "markdown",
   "metadata": {
    "id": "mWU80LmcODPY"
   },
   "source": [
    "# Car Dataset"
   ]
  },
  {
   "cell_type": "markdown",
   "metadata": {
    "id": "SoSyQfjqkNU3"
   },
   "source": [
    "## Read data"
   ]
  },
  {
   "cell_type": "code",
   "execution_count": null,
   "metadata": {
    "id": "v8AAMruCj8tt"
   },
   "outputs": [],
   "source": [
    "import pandas as pd\n",
    "import numpy as np\n",
    "\n",
    "df = pd.read_csv(\"https://raw.githubusercontent.com/arteagac/xlogit/master/examples/data/car100_long.csv\")\n",
    "df.price = -1*df.price/10000\n",
    "df.operating_cost = -1*df.operating_cost\n",
    "\n",
    "varnames = ['high_performance','medium_performance','price', 'operating_cost',\n",
    "            'range', 'electric', 'hybrid'] \n",
    "\n",
    "X = df[varnames].values\n",
    "y = df['choice'].values"
   ]
  },
  {
   "cell_type": "markdown",
   "metadata": {
    "id": "_ZQf9DFKFE5j"
   },
   "source": [
    "## Fit the model"
   ]
  },
  {
   "cell_type": "code",
   "execution_count": null,
   "metadata": {
    "colab": {
     "base_uri": "https://localhost:8080/",
     "height": 382
    },
    "id": "_MhfvmWgFCX6",
    "outputId": "19425419-1ffc-4040-af81-3d3325fffd3a"
   },
   "outputs": [
    {
     "name": "stdout",
     "output_type": "stream",
     "text": [
      "**** GPU Processing Enabled ****\n",
      "Estimation succesfully completed after 73 iterations. Use .summary() to see the estimated values\n",
      "---------------------------------------------------------------------------\n",
      "Coefficient              Estimate      Std.Err.         z-val         P>|z|\n",
      "---------------------------------------------------------------------------\n",
      "medium_performance      0.5838102     0.0933309     6.2552736      4.55e-08 ***\n",
      "high_performance        0.1087706     0.1000104     1.0875922         0.439    \n",
      "price                  -0.7065544     0.1088849    -6.4890017      1.56e-08 ***\n",
      "operating_cost          0.0064776     0.0049081     1.3197622         0.333    \n",
      "range                 -40.6821504 68213.1388143    -0.0005964         0.796    \n",
      "electric               -0.3034144     0.1370607    -2.2137227        0.0711 .  \n",
      "hybrid                  0.9509027     0.1432550     6.6378305      7.84e-09 ***\n",
      "sd.price               -0.7961969     0.0758233   -10.5006880      3.99e-17 ***\n",
      "sd.operating_cost      -0.0365499     0.0049320    -7.4107542         2e-10 ***\n",
      "sd.range               -6.3866252  8915.6594441    -0.0007163         0.796    \n",
      "sd.electric             0.8367212     0.1506176     5.5552685         1e-06 ***\n",
      "sd.hybrid              -0.7619919     0.1606709    -4.7425630      2.83e-05 ***\n",
      "---------------------------------------------------------------------------\n",
      "Significance:  0 '***' 0.001 '**' 0.01 '*' 0.05 '.' 0.1 ' ' 1\n",
      "\n",
      "Log-Likelihood= -1307.429\n"
     ]
    }
   ],
   "source": [
    "from xlogit import MixedLogit\n",
    "\n",
    "model = MixedLogit()\n",
    "model.fit(X, y, varnames = varnames,\n",
    "          alt=['car','bus','bike'],\n",
    "          randvars = {'price': 'ln', 'operating_cost': 'n',\n",
    "                      'range': 'ln', 'electric':'n', 'hybrid': 'n'}, \n",
    "          mixby = df.person_id.values, #Panel column\n",
    "          n_draws = 100) \n",
    "model.summary()"
   ]
  }
 ],
 "metadata": {
  "accelerator": "GPU",
  "colab": {
   "collapsed_sections": [],
   "include_colab_link": true,
   "name": "Copy of mixed_logit_model.ipynb",
   "provenance": []
  },
  "kernelspec": {
   "display_name": "Python 3",
   "language": "python",
   "name": "python3"
  },
  "language_info": {
   "codemirror_mode": {
    "name": "ipython",
    "version": 3
   },
   "file_extension": ".py",
   "mimetype": "text/x-python",
   "name": "python",
   "nbconvert_exporter": "python",
   "pygments_lexer": "ipython3",
   "version": "3.8.3"
  }
 },
 "nbformat": 4,
 "nbformat_minor": 1
}
