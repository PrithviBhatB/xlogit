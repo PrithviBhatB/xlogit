{
 "cells": [
  {
   "cell_type": "markdown",
   "metadata": {},
   "source": [
    "## Multinomial Boxcox"
   ]
  },
  {
   "cell_type": "code",
   "execution_count": 2,
   "metadata": {},
   "outputs": [
    {
     "name": "stdout",
     "output_type": "stream",
     "text": [
      "Requirement already satisfied: xlogitprit in /Users/ryankelly/opt/anaconda3/lib/python3.8/site-packages (0.0.4)\n",
      "Requirement already satisfied: scipy>=1.0.0 in /Users/ryankelly/opt/anaconda3/lib/python3.8/site-packages (from xlogitprit) (1.5.0)\n",
      "Requirement already satisfied: numpy>=1.13.1 in /Users/ryankelly/opt/anaconda3/lib/python3.8/site-packages (from xlogitprit) (1.18.5)\n"
     ]
    }
   ],
   "source": [
    "!pip install xlogitprit -U"
   ]
  },
  {
   "cell_type": "code",
   "execution_count": 3,
   "metadata": {},
   "outputs": [
    {
     "name": "stdout",
     "output_type": "stream",
     "text": [
      "**** The optimization did not converge after 0 iterations. ****\n",
      "Message: NaN result encountered.\n",
      "--------------------------------------------------\n",
      "WARNING: Convergence was not reached during estimation. The given estimates may not be reliable\n",
      "**************************************************\n",
      "Estimation time= 0.0 seconds\n",
      "---------------------------------------------------------------------------\n",
      "Coefficient              Estimate      Std.Err.         z-val         P>|z|\n",
      "---------------------------------------------------------------------------\n",
      "income.boat          0.0000000000  1.0000000000  0.0000000000         0.797    \n",
      "income.charter       0.0000000000  1.0000000000  0.0000000000         0.797    \n",
      "income.pier          0.0000000000  1.0000000000  0.0000000000         0.797    \n",
      "price                0.0000000000  1.0000000000  0.0000000000         0.797    \n",
      "catch                0.0000000000  1.0000000000  0.0000000000         0.797    \n",
      "lambda.price         0.0000000000  1.0000000000  0.0000000000         0.797    \n",
      "lambda.catch         0.0000000000  1.0000000000  0.0000000000         0.797    \n",
      "---------------------------------------------------------------------------\n",
      "Significance:  0 '***' 0.001 '**' 0.01 '*' 0.05 '.' 0.1 ' ' 1\n",
      "\n",
      "Log-Likelihood= nan\n",
      "AIC= nan\n",
      "BIC= nan\n"
     ]
    }
   ],
   "source": [
    "from xlogitprit import MultinomialLogit\n",
    "import pandas as pd\n",
    "data_file = \"https://raw.githubusercontent.com/arteagac/xlogit/master/examples/data/fishing_long.csv\"\n",
    "df = pd.read_csv(data_file)\n",
    "\n",
    "varnames = ['price', 'catch', 'income']\n",
    "X = df[varnames].values\n",
    "y = df['choice'].values\n",
    "\n",
    "model = MultinomialLogit()\n",
    "model.fit(\n",
    "  X,\n",
    "  y,\n",
    "  isvars=['income'],\n",
    "  transvars=['price', 'catch'],\n",
    "  transformation=\"boxcox\",\n",
    "  alts=['beach', 'boat', 'charter', 'pier'],\n",
    "#   fit_intercept=True,\n",
    "  varnames=varnames\n",
    ")\n",
    "model.summary()"
   ]
  },
  {
   "cell_type": "code",
   "execution_count": null,
   "metadata": {},
   "outputs": [],
   "source": []
  }
 ],
 "metadata": {
  "kernelspec": {
   "display_name": "Python 3",
   "language": "python",
   "name": "python3"
  },
  "language_info": {
   "codemirror_mode": {
    "name": "ipython",
    "version": 3
   },
   "file_extension": ".py",
   "mimetype": "text/x-python",
   "name": "python",
   "nbconvert_exporter": "python",
   "pygments_lexer": "ipython3",
   "version": "3.8.3"
  }
 },
 "nbformat": 4,
 "nbformat_minor": 4
}
