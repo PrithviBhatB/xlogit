{
 "cells": [
  {
   "cell_type": "code",
   "execution_count": 1,
   "metadata": {},
   "outputs": [
    {
     "name": "stdout",
     "output_type": "stream",
     "text": [
      "Requirement already satisfied: xlogitprit in /Users/ryankelly/opt/anaconda3/lib/python3.8/site-packages (0.0.1)\n",
      "Collecting xlogitprit\n",
      "  Downloading xlogitprit-0.0.3-py3-none-any.whl (40 kB)\n",
      "\u001b[K     |████████████████████████████████| 40 kB 5.6 MB/s eta 0:00:01\n",
      "\u001b[?25hRequirement already satisfied: scipy>=1.0.0 in /Users/ryankelly/opt/anaconda3/lib/python3.8/site-packages (from xlogitprit) (1.5.0)\n",
      "Requirement already satisfied: numpy>=1.13.1 in /Users/ryankelly/opt/anaconda3/lib/python3.8/site-packages (from xlogitprit) (1.18.5)\n",
      "Installing collected packages: xlogitprit\n",
      "  Attempting uninstall: xlogitprit\n",
      "    Found existing installation: xlogitprit 0.0.1\n",
      "    Uninstalling xlogitprit-0.0.1:\n",
      "      Successfully uninstalled xlogitprit-0.0.1\n",
      "Successfully installed xlogitprit-0.0.3\n"
     ]
    }
   ],
   "source": [
    "!pip install xlogitprit -U"
   ]
  },
  {
   "cell_type": "code",
   "execution_count": 1,
   "metadata": {
    "scrolled": true
   },
   "outputs": [
    {
     "name": "stderr",
     "output_type": "stream",
     "text": [
      "/Users/ryankelly/opt/anaconda3/lib/python3.8/site-packages/scipy/optimize/_minimize.py:533: RuntimeWarning: Method bfgs cannot handle constraints nor bounds.\n",
      "  warn('Method %s cannot handle constraints nor bounds.' % method,\n"
     ]
    },
    {
     "name": "stdout",
     "output_type": "stream",
     "text": [
      "Optimization terminated successfully.\n",
      "         Current function value: 3887.712137\n",
      "         Iterations: 45\n",
      "         Function evaluations: 57\n",
      "         Gradient evaluations: 57\n",
      "Estimation time= 40.0 seconds\n",
      "---------------------------------------------------------------------------\n",
      "Coefficient              Estimate      Std.Err.         z-val         P>|z|\n",
      "---------------------------------------------------------------------------\n",
      "pf                  -0.9906083617  0.0351627457 -28.1720992829       3.2e-92 ***\n",
      "cl                  -0.2211027408  0.0226081463 -9.7797819290      2.67e-19 ***\n",
      "loc                  2.3065648456  0.1163004768 19.8328064398      9.35e-59 ***\n",
      "wk                   1.6616046992  0.0889379324 18.6827448669      5.34e-54 ***\n",
      "tod                 -9.5584033697  0.3058566588 -31.2512515127     8.77e-104 ***\n",
      "seas                -9.6547711365  0.2968670162 -32.5222089714     2.08e-108 ***\n",
      "sd.pf                0.2076201573  0.0166994664 12.4327419807      7.69e-29 ***\n",
      "sd.cl               -0.4119863565  0.0254171808 -16.2089714125      8.24e-44 ***\n",
      "sd.loc               1.7905089167  0.1129929024 15.8462069663      2.48e-42 ***\n",
      "sd.wk               -1.2310369179  0.0931954218 -13.2091994950      8.08e-32 ***\n",
      "sd.tod              -2.6396817250  0.1877307422 -14.0609987139      3.71e-35 ***\n",
      "sd.seas              1.5782051331  0.1938526121  8.1412631794      4.48e-14 ***\n",
      "---------------------------------------------------------------------------\n",
      "Significance:  0 '***' 0.001 '**' 0.01 '*' 0.05 '.' 0.1 ' ' 1\n",
      "\n",
      "Log-Likelihood= -3887.712\n",
      "AIC= 7799.424\n",
      "BIC= 7846.091\n"
     ]
    }
   ],
   "source": [
    "import pandas as pd\n",
    "import numpy as np\n",
    "\n",
    "from xlogitprit import MixedLogit\n",
    "df = pd.read_csv(\"https://raw.githubusercontent.com/arteagac/xlogit/master/examples/data/electricity_long.csv\")\n",
    "\n",
    "varnames = [\"pf\", \"cl\", \"loc\", \"wk\", \"tod\", \"seas\"]\n",
    "\n",
    "X = df[varnames].values\n",
    "y = df['choice'].values\n",
    "alt = [1, 2, 3, 4]\n",
    "np.random.seed(123)\n",
    "model = MixedLogit()\n",
    "\n",
    "model.fit(X, y,\n",
    "          varnames,\n",
    "          alts=alt,\n",
    "          randvars={'pf': 'n', 'cl': 'n', 'loc': 'n', 'wk': 'n', 'tod': 'n','seas': 'n'},\n",
    "          # fit_intercept=True,\n",
    "          # transformation=\"boxcox\",\n",
    "          # transvars=['cl', 'loc', 'wk'],\n",
    "#           correlation=True,\n",
    "          panels=df.id.values,\n",
    "          # halton=False,\n",
    "          # method='L-BFGS-B',\n",
    "          n_draws=600)\n",
    "model.summary()"
   ]
  },
  {
   "cell_type": "code",
   "execution_count": 3,
   "metadata": {},
   "outputs": [
    {
     "name": "stdout",
     "output_type": "stream",
     "text": [
      "Optimization terminated successfully.\n",
      "         Current function value: 4780.024772\n",
      "         Iterations: 84\n",
      "         Function evaluations: 106\n",
      "         Gradient evaluations: 106\n",
      "Estimation time= 109.7 seconds\n",
      "---------------------------------------------------------------------------\n",
      "Coefficient              Estimate      Std.Err.         z-val         P>|z|\n",
      "---------------------------------------------------------------------------\n",
      "pf                   0.1599594407  0.0070241981 22.7726267554      7.86e-71 ***\n",
      "cl                  -0.1492173260  0.0176662363 -8.4464694917      5.32e-15 ***\n",
      "loc                  1.6500983061  0.1095026285 15.0690292008      3.49e-39 ***\n",
      "wk                   1.1820317516  0.0820560257 14.4051791596       1.6e-36 ***\n",
      "tod                 -2.8029830727  0.3979807650 -7.0430114188      6.04e-11 ***\n",
      "seas                -1.9880691493  0.2861296760 -6.9481403568      1.08e-10 ***\n",
      "chol.cl.cl          -0.3157726188  0.0176019840 -17.9396037624      6.31e-51 ***\n",
      "chol.loc.cl         -0.2258313979  0.1133518910 -1.9923037532          0.11    \n",
      "chol.loc.loc         1.7688662149  0.0897972185 19.6984521938      3.36e-58 ***\n",
      "chol.wk.cl          -0.1981126604  0.0906631069 -2.1851519002        0.0739 .  \n",
      "chol.wk.loc          1.0830110176  0.0916714018 11.8140553742      1.61e-26 ***\n",
      "chol.wk.wk           1.1895636011  0.0977529533 12.1690809372      7.61e-28 ***\n",
      "chol.tod.cl          0.9547212535  0.1180847992  8.0850478660       6.6e-14 ***\n",
      "chol.tod.loc         0.7636972126  0.0849281239  8.9922769678      1.03e-16 ***\n",
      "chol.tod.wk          4.1239914624  0.4197851195  9.8240534766      1.89e-19 ***\n",
      "chol.tod.tod         0.9798008638  0.0997970823  9.8179309612      1.99e-19 ***\n",
      "chol.seas.cl         0.5968007047  0.1187661301  5.0250075871      3.86e-06 ***\n",
      "chol.seas.loc        0.7434699310  0.0955415259  7.7816417945      5.15e-13 ***\n",
      "chol.seas.wk         0.6835150569  0.1553979603  4.3984815225      6.28e-05 ***\n",
      "chol.seas.tod        1.1616123122  0.1185184705  9.8011078562      2.26e-19 ***\n",
      "chol.seas.seas       0.9520692719  0.0968199019  9.8334046317      1.76e-19 ***\n",
      "---------------------------------------------------------------------------\n",
      "Significance:  0 '***' 0.001 '**' 0.01 '*' 0.05 '.' 0.1 ' ' 1\n",
      "\n",
      "Log-Likelihood= -4780.025\n",
      "AIC= 9602.050\n",
      "BIC= 9683.716\n"
     ]
    }
   ],
   "source": [
    "df['tod'] = -df['tod']\n",
    "df['seas'] = -df['seas']\n",
    "\n",
    "model.fit(X, y,\n",
    "          varnames,\n",
    "          alts=alt,\n",
    "          randvars={'cl': 'n', 'loc': 'n', 'wk': 'u', 'tod': 'ln','seas': 'ln'},\n",
    "          # fit_intercept=True,\n",
    "          # transformation=\"boxcox\",\n",
    "          # transvars=['cl', 'loc', 'wk'],\n",
    "          correlation=True,\n",
    "          panels=df.id.values,\n",
    "          # halton=False,\n",
    "          # method='L-BFGS-B',\n",
    "          n_draws=600)\n",
    "model.summary()"
   ]
  },
  {
   "cell_type": "code",
   "execution_count": 2,
   "metadata": {},
   "outputs": [
    {
     "name": "stdout",
     "output_type": "stream",
     "text": [
      "Warning: Desired error not necessarily achieved due to precision loss.\n",
      "         Current function value: 5441.089682\n",
      "         Iterations: 9\n",
      "         Function evaluations: 80\n",
      "         Gradient evaluations: 68\n",
      "**** The optimization did not converge after 9 iterations. ****\n",
      "Message: Desired error not necessarily achieved due to precision loss.\n",
      "--------------------------------------------------\n",
      "WARNING: Convergence was not reached during estimation. The given estimates may not be reliable\n",
      "**************************************************\n",
      "Estimation time= 44.3 seconds\n",
      "---------------------------------------------------------------------------\n",
      "Coefficient              Estimate      Std.Err.         z-val         P>|z|\n",
      "---------------------------------------------------------------------------\n",
      "pf                   0.1019866440  0.0118664820  8.5945138712      1.85e-15 ***\n",
      "cl                  -0.1116511542  0.0078919949 -14.1473931196      1.69e-35 ***\n",
      "loc                  0.5245043016  0.0561203970  9.3460547244      7.38e-18 ***\n",
      "wk                   1.1349870825  0.3356237986  3.3817240825       0.00282 ** \n",
      "tod                 -0.1806073916  0.1366852235 -1.3213380857         0.333    \n",
      "seas                -1.2520728495  0.1137410831 -11.0080967727      1.41e-23 ***\n",
      "chol.cl.cl          -0.3179710213  0.7084944465 -0.4487981844         0.721    \n",
      "chol.loc.cl         -1.3556510038  0.2760217364 -4.9113922014      6.56e-06 ***\n",
      "chol.loc.loc         0.4543582238  0.7187229496  0.6321743644         0.653    \n",
      "sd.wk               -0.3179710213  0.7084944465 -0.4487981844         0.721    \n",
      "sd.tod               0.4543582238  0.7187229496  0.6321743644         0.653    \n",
      "sd.seas             -1.6653833406  1.6690218475 -0.9978199765         0.484    \n",
      "---------------------------------------------------------------------------\n",
      "Significance:  0 '***' 0.001 '**' 0.01 '*' 0.05 '.' 0.1 ' ' 1\n",
      "\n",
      "Log-Likelihood= -5441.090\n",
      "AIC= 10906.179\n",
      "BIC= 10952.846\n"
     ]
    }
   ],
   "source": [
    "model.fit(X, y,\n",
    "          varnames,\n",
    "          alts=alt,\n",
    "          randvars={'cl': 'n', 'loc': 'n', 'wk': 'u', 'tod': 'ln','seas': 'ln'},\n",
    "          # fit_intercept=True,\n",
    "          # transformation=\"boxcox\",\n",
    "          # transvars=['cl', 'loc', 'wk'],\n",
    "          correlation=['cl', 'loc'],\n",
    "          panels=df.id.values,\n",
    "          # halton=False,\n",
    "          # method='L-BFGS-B',\n",
    "          n_draws=600)\n",
    "model.summary()"
   ]
  }
 ],
 "metadata": {
  "kernelspec": {
   "display_name": "Python 3",
   "language": "python",
   "name": "python3"
  },
  "language_info": {
   "codemirror_mode": {
    "name": "ipython",
    "version": 3
   },
   "file_extension": ".py",
   "mimetype": "text/x-python",
   "name": "python",
   "nbconvert_exporter": "python",
   "pygments_lexer": "ipython3",
   "version": "3.8.3"
  }
 },
 "nbformat": 4,
 "nbformat_minor": 4
}
