{
 "cells": [
  {
   "cell_type": "markdown",
   "metadata": {},
   "source": [
    "## Multinomial Boxcox"
   ]
  },
  {
   "cell_type": "code",
   "execution_count": 1,
   "metadata": {},
   "outputs": [
    {
     "name": "stdout",
     "output_type": "stream",
     "text": [
      "Requirement already satisfied: xlogitprit in /Library/Frameworks/Python.framework/Versions/3.7/lib/python3.7/site-packages (0.0.24)\n",
      "Requirement already satisfied: numpy>=1.13.1 in /Library/Frameworks/Python.framework/Versions/3.7/lib/python3.7/site-packages (from xlogitprit) (1.20.1)\n",
      "Requirement already satisfied: scipy>=1.0.0 in /Library/Frameworks/Python.framework/Versions/3.7/lib/python3.7/site-packages (from xlogitprit) (1.6.0)\n"
     ]
    }
   ],
   "source": [
    "!pip install xlogitprit -U"
   ]
  },
  {
   "cell_type": "code",
   "execution_count": 4,
   "metadata": {},
   "outputs": [
    {
     "name": "stdout",
     "output_type": "stream",
     "text": [
      "Estimation time= 0.1 seconds\n",
      "---------------------------------------------------------------------------\n",
      "Coefficient              Estimate      Std.Err.         z-val         P>|z|\n",
      "---------------------------------------------------------------------------\n",
      "price               -0.1217490820  0.0321450572 -3.7874899777      0.000635 ***\n",
      "catch                1.0551803433  0.0897528665 11.7565085548      3.12e-29 ***\n",
      "lambda.price         0.5989527910  0.0632937159  9.4630688430      1.39e-19 ***\n",
      "lambda.catch         0.7122570277  0.0664899144 10.7122566429      1.26e-24 ***\n",
      "---------------------------------------------------------------------------\n",
      "Significance:  0 '***' 0.001 '**' 0.01 '*' 0.05 '.' 0.1 ' ' 1\n",
      "\n",
      "Log-Likelihood= -1290.203\n",
      "AIC= 2588.405\n",
      "BIC= 2608.705\n"
     ]
    }
   ],
   "source": [
    "from xlogitprit import MultinomialLogit\n",
    "import pandas as pd\n",
    "data_file = \"https://raw.githubusercontent.com/arteagac/xlogit/master/examples/data/fishing_long.csv\"\n",
    "df = pd.read_csv(data_file)\n",
    "\n",
    "varnames = ['price', 'catch']\n",
    "X = df[varnames].values\n",
    "y = df['choice'].values\n",
    "\n",
    "model = MultinomialLogit()\n",
    "model.fit(\n",
    "  X,\n",
    "  y,\n",
    "  transvars=['price', 'catch'],\n",
    "  transformation=\"boxcox\",\n",
    "  alts=['beach', 'boat', 'charter', 'pier'],\n",
    "  varnames=varnames\n",
    ")\n",
    "model.summary()"
   ]
  },
  {
   "cell_type": "code",
   "execution_count": null,
   "metadata": {},
   "outputs": [],
   "source": []
  }
 ],
 "metadata": {
  "kernelspec": {
   "display_name": "Python 3",
   "language": "python",
   "name": "python3"
  },
  "language_info": {
   "codemirror_mode": {
    "name": "ipython",
    "version": 3
   },
   "file_extension": ".py",
   "mimetype": "text/x-python",
   "name": "python",
   "nbconvert_exporter": "python",
   "pygments_lexer": "ipython3",
   "version": "3.8.3"
  }
 },
 "nbformat": 4,
 "nbformat_minor": 4
}
