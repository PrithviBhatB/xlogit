{
 "cells": [
  {
   "cell_type": "code",
   "execution_count": 1,
   "metadata": {},
   "outputs": [
    {
     "name": "stdout",
     "output_type": "stream",
     "text": [
      "Requirement already satisfied: xlogitprit in /Library/Frameworks/Python.framework/Versions/3.7/lib/python3.7/site-packages (0.0.24)\n",
      "Requirement already satisfied: scipy>=1.0.0 in /Library/Frameworks/Python.framework/Versions/3.7/lib/python3.7/site-packages (from xlogitprit) (1.6.0)\n",
      "Requirement already satisfied: numpy>=1.13.1 in /Library/Frameworks/Python.framework/Versions/3.7/lib/python3.7/site-packages (from xlogitprit) (1.20.1)\n"
     ]
    }
   ],
   "source": [
    "!pip install xlogitprit -U"
   ]
  },
  {
   "cell_type": "code",
   "execution_count": 2,
   "metadata": {
    "scrolled": true
   },
   "outputs": [
    {
     "name": "stdout",
     "output_type": "stream",
     "text": [
      "Optimization terminated successfully.\n",
      "         Current function value: 3888.413414\n",
      "         Iterations: 47\n",
      "         Function evaluations: 52\n",
      "         Gradient evaluations: 52\n",
      "Estimation time= 28.0 seconds\n",
      "---------------------------------------------------------------------------\n",
      "Coefficient              Estimate      Std.Err.         z-val         P>|z|\n",
      "---------------------------------------------------------------------------\n",
      "pf                  -0.9996285437  0.0334288406 -29.9031771568      8.78e-99 ***\n",
      "cl                  -0.2355333411  0.0229178669 -10.2772802639      5.34e-21 ***\n",
      "loc                  2.2307890858  0.1183620727 18.8471613778      1.12e-54 ***\n",
      "wk                   1.6251656458  0.0927437304 17.5231860836       3.3e-49 ***\n",
      "tod                 -9.6067366262  0.3146238526 -30.5340378557      3.9e-101 ***\n",
      "seas                -9.7892798812  0.2922216456 -33.4995029609     6.64e-112 ***\n",
      "sd.pf                0.2357813253  0.0181299642 13.0050629144      4.98e-31 ***\n",
      "sd.cl                0.4025376917  0.0222018026 18.1308562321      1.02e-51 ***\n",
      "sd.loc               1.9262892455  0.1185233472 16.2524033484      5.48e-44 ***\n",
      "sd.wk               -1.2192930701  0.0947183212 -12.8728323600      1.61e-30 ***\n",
      "sd.tod               2.3354462232  0.1743367280 13.3961801953      1.52e-32 ***\n",
      "sd.seas             -1.4200912911  0.2093880662 -6.7821023269      2.98e-10 ***\n",
      "---------------------------------------------------------------------------\n",
      "Significance:  0 '***' 0.001 '**' 0.01 '*' 0.05 '.' 0.1 ' ' 1\n",
      "\n",
      "Log-Likelihood= -3888.413\n",
      "AIC= 7800.827\n",
      "BIC= 7847.493\n"
     ]
    }
   ],
   "source": [
    "import pandas as pd\n",
    "import numpy as np\n",
    "\n",
    "from xlogitprit import MixedLogit\n",
    "df = pd.read_csv(\"https://raw.githubusercontent.com/arteagac/xlogit/master/examples/data/electricity_long.csv\")\n",
    "\n",
    "varnames = [\"pf\", \"cl\", \"loc\", \"wk\", \"tod\", \"seas\"]\n",
    "\n",
    "X = df[varnames].values\n",
    "y = df['choice'].values\n",
    "alt = [1, 2, 3, 4]\n",
    "np.random.seed(123)\n",
    "model = MixedLogit()\n",
    "\n",
    "model.fit(X, y,\n",
    "          varnames,\n",
    "          alts=alt,\n",
    "          randvars={'pf': 'n', 'cl': 'n', 'loc': 'n', 'wk': 'n', 'tod': 'n','seas': 'n'},\n",
    "          # fit_intercept=True,\n",
    "          # transformation=\"boxcox\",\n",
    "          # transvars=['cl', 'loc', 'wk'],\n",
    "#           correlation=True,\n",
    "          panels=df.id.values,\n",
    "          # halton=False,\n",
    "          # method='L-BFGS-B',\n",
    "          n_draws=600)\n",
    "model.summary()"
   ]
  },
  {
   "cell_type": "code",
   "execution_count": 3,
   "metadata": {},
   "outputs": [
    {
     "name": "stdout",
     "output_type": "stream",
     "text": [
      "Optimization terminated successfully.\n",
      "         Current function value: 4765.596965\n",
      "         Iterations: 68\n",
      "         Function evaluations: 77\n",
      "         Gradient evaluations: 77\n",
      "Estimation time= 45.9 seconds\n",
      "---------------------------------------------------------------------------\n",
      "Coefficient              Estimate      Std.Err.         z-val         P>|z|\n",
      "---------------------------------------------------------------------------\n",
      "pf                   0.1749575436  0.0081433149 21.4848064606      1.45e-65 ***\n",
      "cl                  -0.1446538278  0.0179841331 -8.0434139853      8.78e-14 ***\n",
      "loc                  1.7467524573  0.1137340546 15.3582184631      2.37e-40 ***\n",
      "wk                   1.2527405850  0.0933326287 13.4223218877       1.2e-32 ***\n",
      "tod                 -1.5531964660  0.2408225779 -6.4495467138      2.13e-09 ***\n",
      "seas                -1.8581770591  0.2906687386 -6.3927654148      2.96e-09 ***\n",
      "chol.cl.cl           0.3140931384  0.0192246608 16.3380328225      2.45e-44 ***\n",
      "chol.loc.cl          0.2551107561  0.1267123124  2.0133067684         0.106    \n",
      "chol.loc.loc         1.8791792223  0.1066304495 17.6232889469      1.28e-49 ***\n",
      "chol.wk.cl           0.1837166554  0.0984221175  1.8666196185          0.14    \n",
      "chol.wk.loc          1.1541874609  0.0982793896 11.7439420987      2.93e-26 ***\n",
      "chol.wk.wk           1.3766037894  0.1009793142 13.6325325722      1.81e-33 ***\n",
      "chol.tod.cl         -0.5943828714  0.0740109964 -8.0310075630      9.55e-14 ***\n",
      "chol.tod.loc         0.5608276469  0.0770719676  7.2766748354      1.39e-11 ***\n",
      "chol.tod.wk          1.0684998043  0.1573832252  6.7891594108      2.86e-10 ***\n",
      "chol.tod.tod         1.9319219071  0.1679644121 11.5019716576      2.28e-25 ***\n",
      "chol.seas.cl        -0.9907749051  0.1254427513 -7.8982236483      2.35e-13 ***\n",
      "chol.seas.loc        0.3186784128  0.1243180638  2.5634119703        0.0305 *  \n",
      "chol.seas.wk         0.7146293726  0.2003607274  3.5667138067       0.00151 ** \n",
      "chol.seas.tod        0.9927523278  0.1414190750  7.0199322651      6.97e-11 ***\n",
      "chol.seas.seas       1.3220869495  0.1514463143  8.7297400117      7.01e-16 ***\n",
      "---------------------------------------------------------------------------\n",
      "Significance:  0 '***' 0.001 '**' 0.01 '*' 0.05 '.' 0.1 ' ' 1\n",
      "\n",
      "Log-Likelihood= -4765.597\n",
      "AIC= 9573.194\n",
      "BIC= 9654.860\n"
     ]
    }
   ],
   "source": [
    "df['tod'] = -df['tod']\n",
    "df['seas'] = -df['seas']\n",
    "\n",
    "model.fit(X, y,\n",
    "          varnames,\n",
    "          alts=alt,\n",
    "          randvars={'cl': 'n', 'loc': 'n', 'wk': 'u', 'tod': 'ln','seas': 'ln'},\n",
    "          # fit_intercept=True,\n",
    "          # transformation=\"boxcox\",\n",
    "          # transvars=['cl', 'loc', 'wk'],\n",
    "          correlation=True,\n",
    "          panels=df.id.values,\n",
    "          # halton=False,\n",
    "          # method='L-BFGS-B',\n",
    "          n_draws=600)\n",
    "model.summary()"
   ]
  },
  {
   "cell_type": "code",
   "execution_count": 5,
   "metadata": {},
   "outputs": [],
   "source": [
    "# model.fit(X, y,\n",
    "#           varnames,\n",
    "#           alts=alt,\n",
    "#           randvars={'cl': 'n', 'loc': 'n', 'wk': 'u', 'tod': 'ln','seas': 'ln'},\n",
    "#           # fit_intercept=True,\n",
    "#           # transformation=\"boxcox\",\n",
    "#           # transvars=['cl', 'loc', 'wk'],\n",
    "#           correlation=['cl', 'loc'],\n",
    "#           panels=df.id.values,\n",
    "#           # halton=False,\n",
    "#           # method='L-BFGS-B',\n",
    "#           n_draws=600)\n",
    "# model.summary()"
   ]
  }
 ],
 "metadata": {
  "kernelspec": {
   "display_name": "Python 3",
   "language": "python",
   "name": "python3"
  },
  "language_info": {
   "codemirror_mode": {
    "name": "ipython",
    "version": 3
   },
   "file_extension": ".py",
   "mimetype": "text/x-python",
   "name": "python",
   "nbconvert_exporter": "python",
   "pygments_lexer": "ipython3",
   "version": "3.8.3"
  }
 },
 "nbformat": 4,
 "nbformat_minor": 4
}
