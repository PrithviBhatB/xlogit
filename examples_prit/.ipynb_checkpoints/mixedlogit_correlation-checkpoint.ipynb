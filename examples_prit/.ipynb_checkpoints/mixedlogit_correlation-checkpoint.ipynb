{
 "cells": [
  {
   "cell_type": "code",
   "execution_count": 1,
   "metadata": {},
   "outputs": [
    {
     "name": "stdout",
     "output_type": "stream",
     "text": [
      "Requirement already up-to-date: xlogitprit in c:\\users\\n9751041\\anaconda3\\lib\\site-packages (0.0.3)\n",
      "Requirement already satisfied, skipping upgrade: scipy>=1.0.0 in c:\\users\\n9751041\\anaconda3\\lib\\site-packages (from xlogitprit) (1.5.0)\n",
      "Requirement already satisfied, skipping upgrade: numpy>=1.13.1 in c:\\users\\n9751041\\anaconda3\\lib\\site-packages (from xlogitprit) (1.18.5)\n"
     ]
    }
   ],
   "source": [
    "!pip install xlogitprit -U"
   ]
  },
  {
   "cell_type": "code",
   "execution_count": 6,
   "metadata": {
    "scrolled": true
   },
   "outputs": [
    {
     "name": "stdout",
     "output_type": "stream",
     "text": [
      "Optimization terminated successfully.\n",
      "         Current function value: 3887.712137\n",
      "         Iterations: 45\n",
      "         Function evaluations: 57\n",
      "         Gradient evaluations: 57\n",
      "Estimation time= 47.4 seconds\n",
      "---------------------------------------------------------------------------\n",
      "Coefficient              Estimate      Std.Err.         z-val         P>|z|\n",
      "---------------------------------------------------------------------------\n",
      "pf                  -0.9906083617  0.0351627457 -28.1720992830       3.2e-92 ***\n",
      "cl                  -0.2211027408  0.0226081463 -9.7797819290      2.67e-19 ***\n",
      "loc                  2.3065648456  0.1163004768 19.8328064400      9.35e-59 ***\n",
      "wk                   1.6616046992  0.0889379324 18.6827448671      5.34e-54 ***\n",
      "tod                 -9.5584033697  0.3058566588 -31.2512515130     8.77e-104 ***\n",
      "seas                -9.6547711365  0.2968670162 -32.5222089715     2.08e-108 ***\n",
      "sd.pf                0.2076201573  0.0166994664 12.4327419807      7.69e-29 ***\n",
      "sd.cl               -0.4119863565  0.0254171808 -16.2089714125      8.24e-44 ***\n",
      "sd.loc               1.7905089167  0.1129929024 15.8462069665      2.48e-42 ***\n",
      "sd.wk               -1.2310369179  0.0931954218 -13.2091994950      8.08e-32 ***\n",
      "sd.tod              -2.6396817250  0.1877307422 -14.0609987139      3.71e-35 ***\n",
      "sd.seas              1.5782051331  0.1938526121  8.1412631794      4.48e-14 ***\n",
      "---------------------------------------------------------------------------\n",
      "Significance:  0 '***' 0.001 '**' 0.01 '*' 0.05 '.' 0.1 ' ' 1\n",
      "\n",
      "Log-Likelihood= -3887.712\n",
      "AIC= 7799.424\n",
      "BIC= 7846.091\n"
     ]
    }
   ],
   "source": [
    "import pandas as pd\n",
    "import numpy as np\n",
    "\n",
    "from xlogitprit import MixedLogit\n",
    "df = pd.read_csv(\"https://raw.githubusercontent.com/arteagac/xlogit/master/examples/data/electricity_long.csv\")\n",
    "\n",
    "varnames = [\"pf\", \"cl\", \"loc\", \"wk\", \"tod\", \"seas\"]\n",
    "\n",
    "X = df[varnames].values\n",
    "y = df['choice'].values\n",
    "alt = [1, 2, 3, 4]\n",
    "np.random.seed(123)\n",
    "model = MixedLogit()\n",
    "\n",
    "model.fit(X, y,\n",
    "          varnames,\n",
    "          alts=alt,\n",
    "          randvars={'pf': 'n', 'cl': 'n', 'loc': 'n', 'wk': 'n', 'tod': 'n','seas': 'n'},\n",
    "          # fit_intercept=True,\n",
    "          # transformation=\"boxcox\",\n",
    "          # transvars=['cl', 'loc', 'wk'],\n",
    "#           correlation=True,\n",
    "          panels=df.id.values,\n",
    "          # halton=False,\n",
    "          # method='L-BFGS-B',\n",
    "          n_draws=600)\n",
    "model.summary()"
   ]
  },
  {
   "cell_type": "code",
   "execution_count": 3,
   "metadata": {},
   "outputs": [
    {
     "name": "stderr",
     "output_type": "stream",
     "text": [
      "C:\\Users\\n9751041\\Anaconda3\\lib\\site-packages\\scipy\\optimize\\_minimize.py:533: RuntimeWarning: Method bfgs cannot handle constraints nor bounds.\n",
      "  warn('Method %s cannot handle constraints nor bounds.' % method,\n"
     ]
    },
    {
     "name": "stdout",
     "output_type": "stream",
     "text": [
      "Optimization terminated successfully.\n",
      "         Current function value: 3797.570142\n",
      "         Iterations: 97\n",
      "         Function evaluations: 109\n",
      "         Gradient evaluations: 109\n",
      "Estimation time= 95.8 seconds\n",
      "---------------------------------------------------------------------------\n",
      "Coefficient              Estimate      Std.Err.         z-val         P>|z|\n",
      "---------------------------------------------------------------------------\n",
      "pf                  -0.9532235688  0.0330823969 -28.8136186973      1.14e-94 ***\n",
      "cl                  -0.2448747065  0.0249074491 -9.8313843868      1.79e-19 ***\n",
      "loc                  2.5460801076  0.1608856897 15.8253982228      3.02e-42 ***\n",
      "wk                   1.8694663516  0.1147817536 16.2871387886      3.95e-44 ***\n",
      "tod                  2.2215204786  0.0492791569 45.0803263881     1.64e-149 ***\n",
      "seas                 2.2202541002  0.0370669418 59.8984969291     7.07e-189 ***\n",
      "chol.cl.cl          -0.4055815666  0.0230891885 -17.5658649261       2.2e-49 ***\n",
      "chol.loc.cl         -0.1344049800  0.2432898697 -0.5524479101         0.684    \n",
      "chol.loc.loc         2.4103501374  0.1715011628 14.0544244636      3.94e-35 ***\n",
      "chol.wk.cl          -0.0338911366  0.1627591899 -0.2082287128          0.78    \n",
      "chol.wk.loc          1.3194044827  0.1308535033 10.0830657900      2.49e-20 ***\n",
      "chol.wk.wk          -1.5470534144  0.1257853055 -12.2991585441      2.46e-28 ***\n",
      "chol.tod.cl         -0.0214659466  0.0425717735 -0.5042295609         0.702    \n",
      "chol.tod.loc        -0.0485752876  0.0305839230 -1.5882621606         0.226    \n",
      "chol.tod.wk          0.1171745665  0.0919411412  1.2744519484         0.354    \n",
      "chol.tod.tod         0.3888053969  0.0267747362 14.5213530191      5.49e-37 ***\n",
      "chol.seas.cl        -0.0410404272  0.0232146958 -1.7678640965         0.168    \n",
      "chol.seas.loc       -0.0102901814  0.0201525223 -0.5106150582           0.7    \n",
      "chol.seas.wk        -0.0066734160  0.0575814533 -0.1158952335         0.792    \n",
      "chol.seas.tod        0.1471148741  0.0198107429  7.4260149950      5.33e-12 ***\n",
      "chol.seas.seas      -0.2325267788  0.0176925906 -13.1426077402      1.46e-31 ***\n",
      "---------------------------------------------------------------------------\n",
      "Significance:  0 '***' 0.001 '**' 0.01 '*' 0.05 '.' 0.1 ' ' 1\n",
      "\n",
      "Log-Likelihood= -3797.570\n",
      "AIC= 7637.140\n",
      "BIC= 7718.807\n"
     ]
    }
   ],
   "source": [
    "df['tod'] = -df['tod']\n",
    "df['seas'] = -df['seas']\n",
    "\n",
    "model.fit(X, y,\n",
    "          varnames,\n",
    "          alts=alt,\n",
    "          randvars={'cl': 'n', 'loc': 'n', 'wk': 'u', 'tod': 'ln','seas': 'ln'},\n",
    "          # fit_intercept=True,\n",
    "          # transformation=\"boxcox\",\n",
    "          # transvars=['cl', 'loc', 'wk'],\n",
    "          correlation=True,\n",
    "          panels=df.id.values,\n",
    "          # halton=False,\n",
    "          # method='L-BFGS-B',\n",
    "          n_draws=600)\n",
    "model.summary()"
   ]
  },
  {
   "cell_type": "code",
   "execution_count": 7,
   "metadata": {},
   "outputs": [
    {
     "name": "stdout",
     "output_type": "stream",
     "text": [
      "Warning: Desired error not necessarily achieved due to precision loss.\n",
      "         Current function value: 5514.623040\n",
      "         Iterations: 4\n",
      "         Function evaluations: 54\n",
      "         Gradient evaluations: 44\n",
      "**** The optimization did not converge after 4 iterations. ****\n",
      "Message: Desired error not necessarily achieved due to precision loss.\n",
      "--------------------------------------------------\n",
      "WARNING: Convergence was not reached during estimation. The given estimates may not be reliable\n",
      "**************************************************\n",
      "Estimation time= 45.4 seconds\n",
      "---------------------------------------------------------------------------\n",
      "Coefficient              Estimate      Std.Err.         z-val         P>|z|\n",
      "---------------------------------------------------------------------------\n",
      "pf                   0.1438108864  0.0861005525  1.6702667078         0.198    \n",
      "cl                  -0.1157519641  0.0130969285 -8.8381000532      3.19e-16 ***\n",
      "loc                  0.6272567770  0.3961526210  1.5833715182         0.228    \n",
      "wk                   0.7165779286  0.3783244790  1.8940829063         0.133    \n",
      "tod                 -0.2979885451  0.9983812004 -0.2984717110         0.763    \n",
      "seas                -0.4320883414  0.9820994179 -0.4399639522         0.724    \n",
      "chol.cl.cl          -0.2473761665  1.0088652905 -0.2452023762         0.774    \n",
      "chol.loc.cl         -0.0124940969  1.0035881057 -0.0124494270         0.797    \n",
      "chol.loc.loc         0.0008246995  1.0000031129  0.0008246970         0.797    \n",
      "chol.wk.cl          -0.0099575627  1.0012684298 -0.0099449482         0.797    \n",
      "chol.wk.loc         -0.0017257578  1.0000097283 -0.0017257410         0.797    \n",
      "chol.wk.wk           0.0002611844  1.0000008642  0.0002611841         0.797    \n",
      "sd.tod              -0.2473761665  1.0088652905 -0.2452023762         0.774    \n",
      "sd.seas              0.0008246995  1.0000031129  0.0008246970         0.797    \n",
      "---------------------------------------------------------------------------\n",
      "Significance:  0 '***' 0.001 '**' 0.01 '*' 0.05 '.' 0.1 ' ' 1\n",
      "\n",
      "Log-Likelihood= -5514.623\n",
      "AIC= 11057.246\n",
      "BIC= 11111.690\n"
     ]
    }
   ],
   "source": [
    "model.fit(X, y,\n",
    "          varnames,\n",
    "          alts=alt,\n",
    "          randvars={'cl': 'n', 'loc': 'n', 'wk': 'u', 'tod': 'ln','seas': 'ln'},\n",
    "          # fit_intercept=True,\n",
    "          # transformation=\"boxcox\",\n",
    "          # transvars=['cl', 'loc', 'wk'],\n",
    "          correlation=['cl', 'loc'],\n",
    "          panels=df.id.values,\n",
    "          # halton=False,\n",
    "          # method='L-BFGS-B',\n",
    "          n_draws=600)\n",
    "model.summary()"
   ]
  }
 ],
 "metadata": {
  "kernelspec": {
   "display_name": "Python 3",
   "language": "python",
   "name": "python3"
  },
  "language_info": {
   "codemirror_mode": {
    "name": "ipython",
    "version": 3
   },
   "file_extension": ".py",
   "mimetype": "text/x-python",
   "name": "python",
   "nbconvert_exporter": "python",
   "pygments_lexer": "ipython3",
   "version": "3.8.3"
  }
 },
 "nbformat": 4,
 "nbformat_minor": 4
}
