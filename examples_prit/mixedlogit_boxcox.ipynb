{
 "cells": [
  {
   "cell_type": "markdown",
   "metadata": {},
   "source": [
    "## Mixed Logit Boxcox"
   ]
  },
  {
   "cell_type": "code",
   "execution_count": 1,
   "metadata": {},
   "outputs": [
    {
     "name": "stdout",
     "output_type": "stream",
     "text": [
      "Requirement already satisfied: xlogitprit in /Users/ryankelly/opt/anaconda3/lib/python3.8/site-packages (0.0.4)\n",
      "Requirement already satisfied: numpy>=1.13.1 in /Users/ryankelly/opt/anaconda3/lib/python3.8/site-packages (from xlogitprit) (1.18.5)\n",
      "Requirement already satisfied: scipy>=1.0.0 in /Users/ryankelly/opt/anaconda3/lib/python3.8/site-packages (from xlogitprit) (1.5.0)\n"
     ]
    }
   ],
   "source": [
    "!pip install xlogitprit -U"
   ]
  },
  {
   "cell_type": "code",
   "execution_count": 3,
   "metadata": {},
   "outputs": [
    {
     "name": "stdout",
     "output_type": "stream",
     "text": [
      "Optimization terminated successfully.\n",
      "         Current function value: 1184.212688\n",
      "         Iterations: 30\n",
      "         Function evaluations: 40\n",
      "         Gradient evaluations: 40\n",
      "Estimation time= 3.2 seconds\n",
      "---------------------------------------------------------------------------\n",
      "Coefficient              Estimate      Std.Err.         z-val         P>|z|\n",
      "---------------------------------------------------------------------------\n",
      "_intercept.boat      0.7399554475  0.1185035584  6.2441622642      3.67e-09 ***\n",
      "_intercept.charter   1.9298277971  0.1585767822 12.1696743401      3.78e-31 ***\n",
      "_intercept.pier      0.2999043877  0.1097987780  2.7314000487        0.0193 *  \n",
      "catch                0.3274835217  0.1487600995  2.2014204268        0.0709 .  \n",
      "sd.catch             0.8473691429  0.3141144318  2.6976447343        0.0211 *  \n",
      "price               -0.2588327961  0.0673604071 -3.8425064113      0.000516 ***\n",
      "sd.price             0.0883363276  0.0325056001  2.7175725814          0.02 *  \n",
      "lambda.price         0.5144404335  0.0746622946  6.8902306899      6.11e-11 ***\n",
      "---------------------------------------------------------------------------\n",
      "Significance:  0 '***' 0.001 '**' 0.01 '*' 0.05 '.' 0.1 ' ' 1\n",
      "\n",
      "Log-Likelihood= -1184.213\n",
      "AIC= 2384.425\n",
      "BIC= 2425.025\n"
     ]
    }
   ],
   "source": [
    "from xlogitprit import MixedLogit\n",
    "import pandas as pd\n",
    "import numpy as np\n",
    "\n",
    "df = pd.read_csv(\"https://raw.githubusercontent.com/arteagac/xlogit/master/examples/data/fishing_long.csv\")\n",
    "\n",
    "varnames = ['price', 'catch']\n",
    "X = df[varnames].values\n",
    "y = df['choice'].values\n",
    "\n",
    "model = MixedLogit()\n",
    "model.fit(X, y, varnames=varnames,\n",
    "#           isvars=['income'],\n",
    "          alts=['beach', 'boat', 'charter', 'pier'],\n",
    "          randvars={'price': 'n', 'catch': 'n'},\n",
    "          transvars=['price'],\n",
    "          # correlation=True,\n",
    "          # method=\"L-BFGS-B\",\n",
    "          fit_intercept=True\n",
    "          )\n",
    "model.summary()"
   ]
  },
  {
   "cell_type": "code",
   "execution_count": null,
   "metadata": {},
   "outputs": [],
   "source": []
  }
 ],
 "metadata": {
  "kernelspec": {
   "display_name": "Python 3",
   "language": "python",
   "name": "python3"
  },
  "language_info": {
   "codemirror_mode": {
    "name": "ipython",
    "version": 3
   },
   "file_extension": ".py",
   "mimetype": "text/x-python",
   "name": "python",
   "nbconvert_exporter": "python",
   "pygments_lexer": "ipython3",
   "version": "3.8.3"
  }
 },
 "nbformat": 4,
 "nbformat_minor": 4
}
